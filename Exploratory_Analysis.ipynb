{
 "cells": [
  {
   "cell_type": "code",
   "execution_count": 1,
   "id": "722250a2",
   "metadata": {},
   "outputs": [],
   "source": [
    "# imports\n",
    "import numpy as np\n",
    "import pandas as pd\n",
    "from matplotlib import pyplot as plt\n",
    "\n",
    "import seaborn as sns\n",
    "\n",
    "from warnings import filterwarnings"
   ]
  },
  {
   "cell_type": "code",
   "execution_count": 2,
   "id": "ce16b492",
   "metadata": {},
   "outputs": [
    {
     "data": {
      "text/html": [
       "<div>\n",
       "<style scoped>\n",
       "    .dataframe tbody tr th:only-of-type {\n",
       "        vertical-align: middle;\n",
       "    }\n",
       "\n",
       "    .dataframe tbody tr th {\n",
       "        vertical-align: top;\n",
       "    }\n",
       "\n",
       "    .dataframe thead th {\n",
       "        text-align: right;\n",
       "    }\n",
       "</style>\n",
       "<table border=\"1\" class=\"dataframe\">\n",
       "  <thead>\n",
       "    <tr style=\"text-align: right;\">\n",
       "      <th></th>\n",
       "      <th>Plate_Type</th>\n",
       "      <th>Issue Date</th>\n",
       "      <th>Violation_Code</th>\n",
       "      <th>Vehicle_Body_Type</th>\n",
       "      <th>Vehicle Make</th>\n",
       "      <th>Issuing Agency</th>\n",
       "      <th>Violation Location</th>\n",
       "      <th>Violation Precinct</th>\n",
       "      <th>Issuer Precinct</th>\n",
       "      <th>Issuer Code</th>\n",
       "      <th>Issuer Command</th>\n",
       "      <th>Violation_Time</th>\n",
       "      <th>Violation_County</th>\n",
       "      <th>Street Name</th>\n",
       "      <th>Law Section</th>\n",
       "      <th>Sub Division</th>\n",
       "      <th>Vehicle_Color</th>\n",
       "      <th>Vehicle_Year</th>\n",
       "      <th>Violation Description</th>\n",
       "    </tr>\n",
       "  </thead>\n",
       "  <tbody>\n",
       "    <tr>\n",
       "      <th>0</th>\n",
       "      <td>PAS</td>\n",
       "      <td>7/10/2016</td>\n",
       "      <td>7</td>\n",
       "      <td>SUBN</td>\n",
       "      <td>TOYOT</td>\n",
       "      <td>V</td>\n",
       "      <td>NaN</td>\n",
       "      <td>0</td>\n",
       "      <td>0</td>\n",
       "      <td>0</td>\n",
       "      <td>NaN</td>\n",
       "      <td>0143A</td>\n",
       "      <td>BX</td>\n",
       "      <td>ALLERTON AVE (W/B) @</td>\n",
       "      <td>1111</td>\n",
       "      <td>D</td>\n",
       "      <td>GY</td>\n",
       "      <td>2001</td>\n",
       "      <td>FAILURE TO STOP AT RED LIGHT</td>\n",
       "    </tr>\n",
       "    <tr>\n",
       "      <th>1</th>\n",
       "      <td>PAS</td>\n",
       "      <td>7/8/2016</td>\n",
       "      <td>7</td>\n",
       "      <td>SUBN</td>\n",
       "      <td>TOYOT</td>\n",
       "      <td>V</td>\n",
       "      <td>NaN</td>\n",
       "      <td>0</td>\n",
       "      <td>0</td>\n",
       "      <td>0</td>\n",
       "      <td>NaN</td>\n",
       "      <td>0400P</td>\n",
       "      <td>BX</td>\n",
       "      <td>ALLERTON AVE (W/B) @</td>\n",
       "      <td>1111</td>\n",
       "      <td>D</td>\n",
       "      <td>GY</td>\n",
       "      <td>2001</td>\n",
       "      <td>FAILURE TO STOP AT RED LIGHT</td>\n",
       "    </tr>\n",
       "    <tr>\n",
       "      <th>2</th>\n",
       "      <td>PAS</td>\n",
       "      <td>8/23/2016</td>\n",
       "      <td>5</td>\n",
       "      <td>SUBN</td>\n",
       "      <td>FORD</td>\n",
       "      <td>V</td>\n",
       "      <td>NaN</td>\n",
       "      <td>0</td>\n",
       "      <td>0</td>\n",
       "      <td>0</td>\n",
       "      <td>NaN</td>\n",
       "      <td>0233P</td>\n",
       "      <td>BX</td>\n",
       "      <td>SB WEBSTER AVE @ E 1</td>\n",
       "      <td>1111</td>\n",
       "      <td>C</td>\n",
       "      <td>BK</td>\n",
       "      <td>2004</td>\n",
       "      <td>BUS LANE VIOLATION</td>\n",
       "    </tr>\n",
       "    <tr>\n",
       "      <th>3</th>\n",
       "      <td>COM</td>\n",
       "      <td>6/14/2017</td>\n",
       "      <td>47</td>\n",
       "      <td>REFG</td>\n",
       "      <td>MITSU</td>\n",
       "      <td>T</td>\n",
       "      <td>14.0</td>\n",
       "      <td>14</td>\n",
       "      <td>14</td>\n",
       "      <td>359594</td>\n",
       "      <td>T102</td>\n",
       "      <td>1120A</td>\n",
       "      <td>NY</td>\n",
       "      <td>7th Ave</td>\n",
       "      <td>408</td>\n",
       "      <td>l2</td>\n",
       "      <td>WH</td>\n",
       "      <td>2007</td>\n",
       "      <td>47-Double PKG-Midtown</td>\n",
       "    </tr>\n",
       "    <tr>\n",
       "      <th>4</th>\n",
       "      <td>COM</td>\n",
       "      <td>11/21/2016</td>\n",
       "      <td>69</td>\n",
       "      <td>DELV</td>\n",
       "      <td>INTER</td>\n",
       "      <td>T</td>\n",
       "      <td>13.0</td>\n",
       "      <td>13</td>\n",
       "      <td>13</td>\n",
       "      <td>364832</td>\n",
       "      <td>T102</td>\n",
       "      <td>0555P</td>\n",
       "      <td>NY</td>\n",
       "      <td>6th Ave</td>\n",
       "      <td>408</td>\n",
       "      <td>h1</td>\n",
       "      <td>WHITE</td>\n",
       "      <td>2007</td>\n",
       "      <td>69-Failure to Disp Muni Recpt</td>\n",
       "    </tr>\n",
       "    <tr>\n",
       "      <th>5</th>\n",
       "      <td>PAS</td>\n",
       "      <td>6/13/2017</td>\n",
       "      <td>7</td>\n",
       "      <td>SUBN</td>\n",
       "      <td>ME/BE</td>\n",
       "      <td>V</td>\n",
       "      <td>NaN</td>\n",
       "      <td>0</td>\n",
       "      <td>0</td>\n",
       "      <td>0</td>\n",
       "      <td>NaN</td>\n",
       "      <td>0852P</td>\n",
       "      <td>QN</td>\n",
       "      <td>NORTHERN BLVD (E/B)</td>\n",
       "      <td>1111</td>\n",
       "      <td>D</td>\n",
       "      <td>WH</td>\n",
       "      <td>2012</td>\n",
       "      <td>FAILURE TO STOP AT RED LIGHT</td>\n",
       "    </tr>\n",
       "    <tr>\n",
       "      <th>6</th>\n",
       "      <td>PAS</td>\n",
       "      <td>8/3/2016</td>\n",
       "      <td>40</td>\n",
       "      <td>SDN</td>\n",
       "      <td>TOYOT</td>\n",
       "      <td>P</td>\n",
       "      <td>71.0</td>\n",
       "      <td>71</td>\n",
       "      <td>71</td>\n",
       "      <td>960290</td>\n",
       "      <td>71</td>\n",
       "      <td>0215A</td>\n",
       "      <td>K</td>\n",
       "      <td>KINGSTON</td>\n",
       "      <td>408</td>\n",
       "      <td>C3</td>\n",
       "      <td>WHITE</td>\n",
       "      <td>0</td>\n",
       "      <td>NaN</td>\n",
       "    </tr>\n",
       "    <tr>\n",
       "      <th>7</th>\n",
       "      <td>PAS</td>\n",
       "      <td>12/21/2016</td>\n",
       "      <td>36</td>\n",
       "      <td>UT</td>\n",
       "      <td>BMW</td>\n",
       "      <td>V</td>\n",
       "      <td>NaN</td>\n",
       "      <td>0</td>\n",
       "      <td>0</td>\n",
       "      <td>0</td>\n",
       "      <td>NaN</td>\n",
       "      <td>0758A</td>\n",
       "      <td>BX</td>\n",
       "      <td>EB E GUN HILL RD @ B</td>\n",
       "      <td>1180</td>\n",
       "      <td>B</td>\n",
       "      <td>NaN</td>\n",
       "      <td>2001</td>\n",
       "      <td>PHTO SCHOOL ZN SPEED VIOLATION</td>\n",
       "    </tr>\n",
       "    <tr>\n",
       "      <th>8</th>\n",
       "      <td>OMS</td>\n",
       "      <td>11/21/2016</td>\n",
       "      <td>36</td>\n",
       "      <td>SUBN</td>\n",
       "      <td>DODGE</td>\n",
       "      <td>V</td>\n",
       "      <td>NaN</td>\n",
       "      <td>0</td>\n",
       "      <td>0</td>\n",
       "      <td>0</td>\n",
       "      <td>NaN</td>\n",
       "      <td>1005A</td>\n",
       "      <td>QN</td>\n",
       "      <td>NB BAISLEY BLVD @ 15</td>\n",
       "      <td>1180</td>\n",
       "      <td>B</td>\n",
       "      <td>BK</td>\n",
       "      <td>2016</td>\n",
       "      <td>PHTO SCHOOL ZN SPEED VIOLATION</td>\n",
       "    </tr>\n",
       "    <tr>\n",
       "      <th>9</th>\n",
       "      <td>PAS</td>\n",
       "      <td>10/5/2016</td>\n",
       "      <td>5</td>\n",
       "      <td>4D</td>\n",
       "      <td>BMW</td>\n",
       "      <td>V</td>\n",
       "      <td>NaN</td>\n",
       "      <td>0</td>\n",
       "      <td>0</td>\n",
       "      <td>0</td>\n",
       "      <td>NaN</td>\n",
       "      <td>0845A</td>\n",
       "      <td>BX</td>\n",
       "      <td>SB WEBSTER AVE @ E 2</td>\n",
       "      <td>1111</td>\n",
       "      <td>C</td>\n",
       "      <td>BLK</td>\n",
       "      <td>2008</td>\n",
       "      <td>BUS LANE VIOLATION</td>\n",
       "    </tr>\n",
       "    <tr>\n",
       "      <th>10</th>\n",
       "      <td>COM</td>\n",
       "      <td>1/11/2017</td>\n",
       "      <td>78</td>\n",
       "      <td>DELV</td>\n",
       "      <td>FRUEH</td>\n",
       "      <td>P</td>\n",
       "      <td>106.0</td>\n",
       "      <td>106</td>\n",
       "      <td>106</td>\n",
       "      <td>960979</td>\n",
       "      <td>106</td>\n",
       "      <td>0015A</td>\n",
       "      <td>Q</td>\n",
       "      <td>ST 115 AVE</td>\n",
       "      <td>408</td>\n",
       "      <td>E2</td>\n",
       "      <td>WHITE</td>\n",
       "      <td>2015</td>\n",
       "      <td>NaN</td>\n",
       "    </tr>\n",
       "    <tr>\n",
       "      <th>11</th>\n",
       "      <td>COM</td>\n",
       "      <td>9/27/2016</td>\n",
       "      <td>19</td>\n",
       "      <td>DELV</td>\n",
       "      <td>KENWO</td>\n",
       "      <td>T</td>\n",
       "      <td>18.0</td>\n",
       "      <td>18</td>\n",
       "      <td>18</td>\n",
       "      <td>357355</td>\n",
       "      <td>T400</td>\n",
       "      <td>0707A</td>\n",
       "      <td>NY</td>\n",
       "      <td>6th Ave</td>\n",
       "      <td>408</td>\n",
       "      <td>c3</td>\n",
       "      <td>RD</td>\n",
       "      <td>2013</td>\n",
       "      <td>19-No Stand (bus stop)</td>\n",
       "    </tr>\n",
       "    <tr>\n",
       "      <th>12</th>\n",
       "      <td>OMT</td>\n",
       "      <td>10/27/2016</td>\n",
       "      <td>36</td>\n",
       "      <td>VAN</td>\n",
       "      <td>FORD</td>\n",
       "      <td>V</td>\n",
       "      <td>NaN</td>\n",
       "      <td>0</td>\n",
       "      <td>0</td>\n",
       "      <td>0</td>\n",
       "      <td>NaN</td>\n",
       "      <td>1022A</td>\n",
       "      <td>QN</td>\n",
       "      <td>EB HORACE HARDING EX</td>\n",
       "      <td>1180</td>\n",
       "      <td>B</td>\n",
       "      <td>WH</td>\n",
       "      <td>2008</td>\n",
       "      <td>PHTO SCHOOL ZN SPEED VIOLATION</td>\n",
       "    </tr>\n",
       "    <tr>\n",
       "      <th>13</th>\n",
       "      <td>PAS</td>\n",
       "      <td>9/30/2016</td>\n",
       "      <td>21</td>\n",
       "      <td>SDN</td>\n",
       "      <td>NISSA</td>\n",
       "      <td>P</td>\n",
       "      <td>44.0</td>\n",
       "      <td>44</td>\n",
       "      <td>44</td>\n",
       "      <td>905733</td>\n",
       "      <td>44</td>\n",
       "      <td>1150A</td>\n",
       "      <td>BX</td>\n",
       "      <td>NELSON AVE</td>\n",
       "      <td>408</td>\n",
       "      <td>F1</td>\n",
       "      <td>TAN</td>\n",
       "      <td>0</td>\n",
       "      <td>NaN</td>\n",
       "    </tr>\n",
       "    <tr>\n",
       "      <th>14</th>\n",
       "      <td>PAS</td>\n",
       "      <td>2/4/2017</td>\n",
       "      <td>40</td>\n",
       "      <td>TAXI</td>\n",
       "      <td>TOYOT</td>\n",
       "      <td>P</td>\n",
       "      <td>73.0</td>\n",
       "      <td>73</td>\n",
       "      <td>73</td>\n",
       "      <td>960758</td>\n",
       "      <td>73</td>\n",
       "      <td>0525A</td>\n",
       "      <td>K</td>\n",
       "      <td>MCDOUGAL ST</td>\n",
       "      <td>408</td>\n",
       "      <td>F1</td>\n",
       "      <td>BLK</td>\n",
       "      <td>2015</td>\n",
       "      <td>NaN</td>\n",
       "    </tr>\n",
       "  </tbody>\n",
       "</table>\n",
       "</div>"
      ],
      "text/plain": [
       "   Plate_Type  Issue Date  Violation_Code Vehicle_Body_Type Vehicle Make  \\\n",
       "0         PAS   7/10/2016               7              SUBN        TOYOT   \n",
       "1         PAS    7/8/2016               7              SUBN        TOYOT   \n",
       "2         PAS   8/23/2016               5              SUBN         FORD   \n",
       "3         COM   6/14/2017              47              REFG        MITSU   \n",
       "4         COM  11/21/2016              69              DELV        INTER   \n",
       "5         PAS   6/13/2017               7              SUBN        ME/BE   \n",
       "6         PAS    8/3/2016              40               SDN        TOYOT   \n",
       "7         PAS  12/21/2016              36                UT          BMW   \n",
       "8         OMS  11/21/2016              36              SUBN        DODGE   \n",
       "9         PAS   10/5/2016               5                4D          BMW   \n",
       "10        COM   1/11/2017              78              DELV        FRUEH   \n",
       "11        COM   9/27/2016              19              DELV        KENWO   \n",
       "12        OMT  10/27/2016              36               VAN         FORD   \n",
       "13        PAS   9/30/2016              21               SDN        NISSA   \n",
       "14        PAS    2/4/2017              40              TAXI        TOYOT   \n",
       "\n",
       "   Issuing Agency  Violation Location  Violation Precinct  Issuer Precinct  \\\n",
       "0               V                 NaN                   0                0   \n",
       "1               V                 NaN                   0                0   \n",
       "2               V                 NaN                   0                0   \n",
       "3               T                14.0                  14               14   \n",
       "4               T                13.0                  13               13   \n",
       "5               V                 NaN                   0                0   \n",
       "6               P                71.0                  71               71   \n",
       "7               V                 NaN                   0                0   \n",
       "8               V                 NaN                   0                0   \n",
       "9               V                 NaN                   0                0   \n",
       "10              P               106.0                 106              106   \n",
       "11              T                18.0                  18               18   \n",
       "12              V                 NaN                   0                0   \n",
       "13              P                44.0                  44               44   \n",
       "14              P                73.0                  73               73   \n",
       "\n",
       "    Issuer Code Issuer Command Violation_Time Violation_County  \\\n",
       "0             0            NaN          0143A               BX   \n",
       "1             0            NaN          0400P               BX   \n",
       "2             0            NaN          0233P               BX   \n",
       "3        359594           T102          1120A               NY   \n",
       "4        364832           T102          0555P               NY   \n",
       "5             0            NaN          0852P               QN   \n",
       "6        960290             71          0215A                K   \n",
       "7             0            NaN          0758A               BX   \n",
       "8             0            NaN          1005A               QN   \n",
       "9             0            NaN          0845A               BX   \n",
       "10       960979            106          0015A                Q   \n",
       "11       357355           T400          0707A               NY   \n",
       "12            0            NaN          1022A               QN   \n",
       "13       905733             44          1150A               BX   \n",
       "14       960758             73          0525A                K   \n",
       "\n",
       "             Street Name  Law Section Sub Division Vehicle_Color  \\\n",
       "0   ALLERTON AVE (W/B) @         1111            D            GY   \n",
       "1   ALLERTON AVE (W/B) @         1111            D            GY   \n",
       "2   SB WEBSTER AVE @ E 1         1111            C            BK   \n",
       "3                7th Ave          408           l2            WH   \n",
       "4                6th Ave          408           h1         WHITE   \n",
       "5    NORTHERN BLVD (E/B)         1111            D            WH   \n",
       "6               KINGSTON          408           C3         WHITE   \n",
       "7   EB E GUN HILL RD @ B         1180            B           NaN   \n",
       "8   NB BAISLEY BLVD @ 15         1180            B            BK   \n",
       "9   SB WEBSTER AVE @ E 2         1111            C           BLK   \n",
       "10            ST 115 AVE          408           E2         WHITE   \n",
       "11               6th Ave          408           c3            RD   \n",
       "12  EB HORACE HARDING EX         1180            B            WH   \n",
       "13            NELSON AVE          408           F1           TAN   \n",
       "14           MCDOUGAL ST          408           F1           BLK   \n",
       "\n",
       "    Vehicle_Year           Violation Description  \n",
       "0           2001    FAILURE TO STOP AT RED LIGHT  \n",
       "1           2001    FAILURE TO STOP AT RED LIGHT  \n",
       "2           2004              BUS LANE VIOLATION  \n",
       "3           2007           47-Double PKG-Midtown  \n",
       "4           2007   69-Failure to Disp Muni Recpt  \n",
       "5           2012    FAILURE TO STOP AT RED LIGHT  \n",
       "6              0                             NaN  \n",
       "7           2001  PHTO SCHOOL ZN SPEED VIOLATION  \n",
       "8           2016  PHTO SCHOOL ZN SPEED VIOLATION  \n",
       "9           2008              BUS LANE VIOLATION  \n",
       "10          2015                             NaN  \n",
       "11          2013          19-No Stand (bus stop)  \n",
       "12          2008  PHTO SCHOOL ZN SPEED VIOLATION  \n",
       "13             0                             NaN  \n",
       "14          2015                             NaN  "
      ]
     },
     "execution_count": 2,
     "metadata": {},
     "output_type": "execute_result"
    }
   ],
   "source": [
    "# read csv\n",
    "\n",
    "nyc_df = pd.read_csv(\"./Data/NYC_Tickets_2017.csv\")\n",
    "\n",
    "nyc_df.head(15)"
   ]
  },
  {
   "cell_type": "code",
   "execution_count": 3,
   "id": "7fd39cd5",
   "metadata": {},
   "outputs": [
    {
     "data": {
      "text/plain": [
       "Index(['Plate_Type', 'Issue Date', 'Violation_Code', 'Vehicle_Body_Type',\n",
       "       'Vehicle Make', 'Issuing Agency', 'Violation Location',\n",
       "       'Violation Precinct', 'Issuer Precinct', 'Issuer Code',\n",
       "       'Issuer Command', 'Violation_Time', 'Violation_County', 'Street Name',\n",
       "       'Law Section', 'Sub Division', 'Vehicle_Color', 'Vehicle_Year',\n",
       "       'Violation Description'],\n",
       "      dtype='object')"
      ]
     },
     "execution_count": 3,
     "metadata": {},
     "output_type": "execute_result"
    }
   ],
   "source": [
    "# looking at columns\n",
    "\n",
    "nyc_df.columns"
   ]
  },
  {
   "cell_type": "code",
   "execution_count": 4,
   "id": "71890cd4",
   "metadata": {},
   "outputs": [],
   "source": [
    "# keeping columns needed for analysis\n",
    "\n",
    "nyc_df = pd.DataFrame(nyc_df, columns = \n",
    "     ['Plate_Type', 'Violation_Code', 'Vehicle_Body_Type','Violation_Time', 'Violation_County',\n",
    "     'Vehicle_Color', 'Vehicle_Year'])"
   ]
  },
  {
   "cell_type": "code",
   "execution_count": 5,
   "id": "cbe6bc93",
   "metadata": {},
   "outputs": [
    {
     "data": {
      "text/html": [
       "<div>\n",
       "<style scoped>\n",
       "    .dataframe tbody tr th:only-of-type {\n",
       "        vertical-align: middle;\n",
       "    }\n",
       "\n",
       "    .dataframe tbody tr th {\n",
       "        vertical-align: top;\n",
       "    }\n",
       "\n",
       "    .dataframe thead th {\n",
       "        text-align: right;\n",
       "    }\n",
       "</style>\n",
       "<table border=\"1\" class=\"dataframe\">\n",
       "  <thead>\n",
       "    <tr style=\"text-align: right;\">\n",
       "      <th></th>\n",
       "      <th>Plate_Type</th>\n",
       "      <th>Violation_Code</th>\n",
       "      <th>Vehicle_Body_Type</th>\n",
       "      <th>Violation_Time</th>\n",
       "      <th>Violation_County</th>\n",
       "      <th>Vehicle_Color</th>\n",
       "      <th>Vehicle_Year</th>\n",
       "    </tr>\n",
       "  </thead>\n",
       "  <tbody>\n",
       "    <tr>\n",
       "      <th>0</th>\n",
       "      <td>PAS</td>\n",
       "      <td>7</td>\n",
       "      <td>SUBN</td>\n",
       "      <td>0143A</td>\n",
       "      <td>BX</td>\n",
       "      <td>GY</td>\n",
       "      <td>2001</td>\n",
       "    </tr>\n",
       "    <tr>\n",
       "      <th>1</th>\n",
       "      <td>PAS</td>\n",
       "      <td>7</td>\n",
       "      <td>SUBN</td>\n",
       "      <td>0400P</td>\n",
       "      <td>BX</td>\n",
       "      <td>GY</td>\n",
       "      <td>2001</td>\n",
       "    </tr>\n",
       "    <tr>\n",
       "      <th>2</th>\n",
       "      <td>PAS</td>\n",
       "      <td>5</td>\n",
       "      <td>SUBN</td>\n",
       "      <td>0233P</td>\n",
       "      <td>BX</td>\n",
       "      <td>BK</td>\n",
       "      <td>2004</td>\n",
       "    </tr>\n",
       "    <tr>\n",
       "      <th>3</th>\n",
       "      <td>COM</td>\n",
       "      <td>47</td>\n",
       "      <td>REFG</td>\n",
       "      <td>1120A</td>\n",
       "      <td>NY</td>\n",
       "      <td>WH</td>\n",
       "      <td>2007</td>\n",
       "    </tr>\n",
       "    <tr>\n",
       "      <th>4</th>\n",
       "      <td>COM</td>\n",
       "      <td>69</td>\n",
       "      <td>DELV</td>\n",
       "      <td>0555P</td>\n",
       "      <td>NY</td>\n",
       "      <td>WHITE</td>\n",
       "      <td>2007</td>\n",
       "    </tr>\n",
       "    <tr>\n",
       "      <th>5</th>\n",
       "      <td>PAS</td>\n",
       "      <td>7</td>\n",
       "      <td>SUBN</td>\n",
       "      <td>0852P</td>\n",
       "      <td>QN</td>\n",
       "      <td>WH</td>\n",
       "      <td>2012</td>\n",
       "    </tr>\n",
       "    <tr>\n",
       "      <th>6</th>\n",
       "      <td>PAS</td>\n",
       "      <td>40</td>\n",
       "      <td>SDN</td>\n",
       "      <td>0215A</td>\n",
       "      <td>K</td>\n",
       "      <td>WHITE</td>\n",
       "      <td>0</td>\n",
       "    </tr>\n",
       "    <tr>\n",
       "      <th>7</th>\n",
       "      <td>PAS</td>\n",
       "      <td>36</td>\n",
       "      <td>UT</td>\n",
       "      <td>0758A</td>\n",
       "      <td>BX</td>\n",
       "      <td>NaN</td>\n",
       "      <td>2001</td>\n",
       "    </tr>\n",
       "    <tr>\n",
       "      <th>8</th>\n",
       "      <td>OMS</td>\n",
       "      <td>36</td>\n",
       "      <td>SUBN</td>\n",
       "      <td>1005A</td>\n",
       "      <td>QN</td>\n",
       "      <td>BK</td>\n",
       "      <td>2016</td>\n",
       "    </tr>\n",
       "    <tr>\n",
       "      <th>9</th>\n",
       "      <td>PAS</td>\n",
       "      <td>5</td>\n",
       "      <td>4D</td>\n",
       "      <td>0845A</td>\n",
       "      <td>BX</td>\n",
       "      <td>BLK</td>\n",
       "      <td>2008</td>\n",
       "    </tr>\n",
       "  </tbody>\n",
       "</table>\n",
       "</div>"
      ],
      "text/plain": [
       "  Plate_Type  Violation_Code Vehicle_Body_Type Violation_Time  \\\n",
       "0        PAS               7              SUBN          0143A   \n",
       "1        PAS               7              SUBN          0400P   \n",
       "2        PAS               5              SUBN          0233P   \n",
       "3        COM              47              REFG          1120A   \n",
       "4        COM              69              DELV          0555P   \n",
       "5        PAS               7              SUBN          0852P   \n",
       "6        PAS              40               SDN          0215A   \n",
       "7        PAS              36                UT          0758A   \n",
       "8        OMS              36              SUBN          1005A   \n",
       "9        PAS               5                4D          0845A   \n",
       "\n",
       "  Violation_County Vehicle_Color  Vehicle_Year  \n",
       "0               BX            GY          2001  \n",
       "1               BX            GY          2001  \n",
       "2               BX            BK          2004  \n",
       "3               NY            WH          2007  \n",
       "4               NY         WHITE          2007  \n",
       "5               QN            WH          2012  \n",
       "6                K         WHITE             0  \n",
       "7               BX           NaN          2001  \n",
       "8               QN            BK          2016  \n",
       "9               BX           BLK          2008  "
      ]
     },
     "execution_count": 5,
     "metadata": {},
     "output_type": "execute_result"
    }
   ],
   "source": [
    "nyc_df.head(10)"
   ]
  },
  {
   "cell_type": "code",
   "execution_count": 6,
   "id": "40e282b3",
   "metadata": {},
   "outputs": [
    {
     "name": "stdout",
     "output_type": "stream",
     "text": [
      "<class 'pandas.core.frame.DataFrame'>\n",
      "RangeIndex: 1048575 entries, 0 to 1048574\n",
      "Data columns (total 7 columns):\n",
      " #   Column             Non-Null Count    Dtype \n",
      "---  ------             --------------    ----- \n",
      " 0   Plate_Type         1048575 non-null  object\n",
      " 1   Violation_Code     1048575 non-null  int64 \n",
      " 2   Vehicle_Body_Type  1044581 non-null  object\n",
      " 3   Violation_Time     1048570 non-null  object\n",
      " 4   Violation_County   1044887 non-null  object\n",
      " 5   Vehicle_Color      1034585 non-null  object\n",
      " 6   Vehicle_Year       1048575 non-null  int64 \n",
      "dtypes: int64(2), object(5)\n",
      "memory usage: 56.0+ MB\n"
     ]
    }
   ],
   "source": [
    "nyc_df.info()"
   ]
  },
  {
   "cell_type": "markdown",
   "id": "84d9a96d",
   "metadata": {},
   "source": [
    "total number of enetries = 1,048,575"
   ]
  },
  {
   "cell_type": "code",
   "execution_count": 7,
   "id": "9723c0a8",
   "metadata": {},
   "outputs": [
    {
     "data": {
      "text/plain": [
       "Plate_Type           object\n",
       "Violation_Code        int64\n",
       "Vehicle_Body_Type    object\n",
       "Violation_Time       object\n",
       "Violation_County     object\n",
       "Vehicle_Color        object\n",
       "Vehicle_Year          int64\n",
       "dtype: object"
      ]
     },
     "execution_count": 7,
     "metadata": {},
     "output_type": "execute_result"
    }
   ],
   "source": [
    " nyc_df.dtypes"
   ]
  },
  {
   "cell_type": "markdown",
   "id": "b81d8c4d",
   "metadata": {},
   "source": [
    "Violation_code and Violation_Year are integers. The rest are strings. Violation_Time is in string, which could be prblmeatic later on in analysis."
   ]
  },
  {
   "cell_type": "code",
   "execution_count": 8,
   "id": "a34801fb",
   "metadata": {},
   "outputs": [
    {
     "data": {
      "text/plain": [
       "PAS    776315\n",
       "COM    178697\n",
       "OMT     43400\n",
       "OMS     10554\n",
       "SRF      8617\n",
       "        ...  \n",
       "HIR         1\n",
       "BOT         1\n",
       "LMC         1\n",
       "USS         1\n",
       "FPW         1\n",
       "Name: Plate_Type, Length: 75, dtype: int64"
      ]
     },
     "execution_count": 8,
     "metadata": {},
     "output_type": "execute_result"
    }
   ],
   "source": [
    "# different plate types\n",
    "\n",
    "nyc_df['Plate_Type'].value_counts()"
   ]
  },
  {
   "cell_type": "markdown",
   "id": "decba09c",
   "metadata": {},
   "source": [
    "Passenger vehicles are the most getting the violations. Commerical is second, but these vehicles are mostly used for business. Passenger vehicles would represent the common public."
   ]
  },
  {
   "cell_type": "code",
   "execution_count": 9,
   "id": "efadd560",
   "metadata": {},
   "outputs": [
    {
     "data": {
      "text/plain": [
       "21    149217\n",
       "36    134108\n",
       "38    104847\n",
       "14     87812\n",
       "20     60748\n",
       "       ...  \n",
       "32         3\n",
       "34         2\n",
       "76         2\n",
       "28         2\n",
       "44         1\n",
       "Name: Violation_Code, Length: 96, dtype: int64"
      ]
     },
     "execution_count": 9,
     "metadata": {},
     "output_type": "execute_result"
    }
   ],
   "source": [
    "# looking at violation codes\n",
    "\n",
    "nyc_df['Violation_Code'].value_counts()\n",
    "\n",
    "# Kept 14, 20, 21, 36, 38\n",
    "\n",
    "# 14 -\tGeneral No Standing: Standing or parking where standing is not allowed by sign, street marking or; traffic control device.\n",
    "# 20 - \tGeneral No Parking: No parking where parking is not allowed by sign, street marking or traffic control device.\n",
    "# 21 - Street Cleaning: No parking where parking is not allowed by sign, street marking or traffic control device.\n",
    "# 36 - Exceeding the posted speed limit in or near a designated school zone.\n",
    "# 38 -Failing to show a receipt or tag in the windshield."
   ]
  },
  {
   "cell_type": "code",
   "execution_count": 10,
   "id": "4ca3d210",
   "metadata": {},
   "outputs": [
    {
     "data": {
      "text/plain": [
       "SUBN    361645\n",
       "4DSD    300389\n",
       "VAN     137456\n",
       "DELV     66890\n",
       "SDN      41649\n",
       "         ...  \n",
       "MCB          1\n",
       "4RUN         1\n",
       "4WD          1\n",
       "DEMI         1\n",
       "TOWL         1\n",
       "Name: Vehicle_Body_Type, Length: 525, dtype: int64"
      ]
     },
     "execution_count": 10,
     "metadata": {},
     "output_type": "execute_result"
    }
   ],
   "source": [
    "# vehicle_body_type counts\n",
    "\n",
    "nyc_df['Vehicle_Body_Type'].value_counts()\n",
    "\n",
    "\n",
    "# Kept these types in filtered data : 2 DSD (two door sedan), 4 DSD (four door sedan), PICK (pickup), SUBN (suburben)"
   ]
  },
  {
   "cell_type": "markdown",
   "id": "84599a72",
   "metadata": {},
   "source": [
    "Most popular cars were suburbans and 4 door sedans. These are probably the most sold to the public. Van and delivery cars were 3rd and 4th most common for violation, but these types of vehicles are mostly used for commercial (business) purposes. "
   ]
  },
  {
   "cell_type": "code",
   "execution_count": 11,
   "id": "28c864e0",
   "metadata": {},
   "outputs": [
    {
     "data": {
      "text/plain": [
       "NY    335925\n",
       "K     216855\n",
       "Q     180564\n",
       "BX    131950\n",
       "BK     82284\n",
       "QN     63607\n",
       "ST     13043\n",
       "R      11928\n",
       "MN      8731\n",
       "Name: Violation_County, dtype: int64"
      ]
     },
     "execution_count": 11,
     "metadata": {},
     "output_type": "execute_result"
    }
   ],
   "source": [
    "# looking at different counties \n",
    "\n",
    "nyc_df['Violation_County'].value_counts()"
   ]
  },
  {
   "cell_type": "markdown",
   "id": "3edb3175",
   "metadata": {},
   "source": [
    "New York, Kings County, Queens, Bronx, and Brooklyn are the most popular counties for violations. "
   ]
  },
  {
   "cell_type": "code",
   "execution_count": 12,
   "id": "34f1acb8",
   "metadata": {},
   "outputs": [
    {
     "data": {
      "text/plain": [
       "GY       169022\n",
       "WH       164184\n",
       "BK       146432\n",
       "WHITE    122620\n",
       "BLACK     62214\n",
       "BL        57968\n",
       "RD        37477\n",
       "GREY      36739\n",
       "SILVE     27061\n",
       "BROWN     26117\n",
       "BLUE      24525\n",
       "RED       22243\n",
       "GR        19639\n",
       "TN        13002\n",
       "OTHER     10614\n",
       "GREEN     10427\n",
       "YW         8594\n",
       "BR         8471\n",
       "BLK        7846\n",
       "GRAY       6617\n",
       "GL         5668\n",
       "TAN        4249\n",
       "YELLO      4210\n",
       "GOLD       3725\n",
       "GRY        3669\n",
       "MR         3495\n",
       "WHT        2555\n",
       "WT         2315\n",
       "OR         1575\n",
       "ORANG      1454\n",
       "WHI        1398\n",
       "LTG        1194\n",
       "SIL        1073\n",
       "SL         1071\n",
       "BLU        1013\n",
       "BRN         918\n",
       "DK/         912\n",
       "LT/         874\n",
       "LTGY        617\n",
       "PR          600\n",
       "PURPL       562\n",
       "DKG         550\n",
       "GRN         512\n",
       "DKGY        319\n",
       "GN          296\n",
       "DKB         237\n",
       "GYGY        231\n",
       "BEIGE       211\n",
       "BN          207\n",
       "BLW         203\n",
       "Name: Vehicle_Color, dtype: int64"
      ]
     },
     "execution_count": 12,
     "metadata": {},
     "output_type": "execute_result"
    }
   ],
   "source": [
    "# looking at car colors \n",
    "\n",
    "nyc_df['Vehicle_Color'].value_counts().head(50)\n",
    "\n",
    "## Colors kept:\n",
    "## WH, WHITE, GY, GREY, BK, BLACK, BL, SILVE, BLUE, RED, RD, GR, GREEN,YW, YELLO, ORANG, PURPL"
   ]
  },
  {
   "cell_type": "markdown",
   "id": "d3c5ef31",
   "metadata": {},
   "source": [
    "Most popular colors were gray, white, and black. This could skew data."
   ]
  },
  {
   "cell_type": "code",
   "execution_count": 13,
   "id": "c951705d",
   "metadata": {},
   "outputs": [
    {
     "data": {
      "text/plain": [
       "0       227368\n",
       "2015    104347\n",
       "2016     99816\n",
       "2014     69443\n",
       "2013     59127\n",
       "2012     46906\n",
       "2007     44783\n",
       "2011     40599\n",
       "2006     39744\n",
       "2008     38630\n",
       "2005     36478\n",
       "2004     33848\n",
       "2010     32998\n",
       "2009     31080\n",
       "2017     29362\n",
       "2003     27770\n",
       "2002     22501\n",
       "2001     18954\n",
       "1999     11097\n",
       "1998      8453\n",
       "1997      7286\n",
       "1996      4085\n",
       "1995      3434\n",
       "1994      1500\n",
       "1990      1357\n",
       "1992      1342\n",
       "1993      1286\n",
       "1988      1192\n",
       "1989       850\n",
       "1991       661\n",
       "1986       543\n",
       "1987       526\n",
       "2018       213\n",
       "1985       191\n",
       "1984       123\n",
       "1983        72\n",
       "1982        57\n",
       "1979        47\n",
       "1978        43\n",
       "1980        39\n",
       "1981        38\n",
       "1977        35\n",
       "1973        28\n",
       "1971        27\n",
       "2019        25\n",
       "1975        23\n",
       "2066        21\n",
       "1972        21\n",
       "2068        21\n",
       "1976        21\n",
       "Name: Vehicle_Year, dtype: int64"
      ]
     },
     "execution_count": 13,
     "metadata": {},
     "output_type": "execute_result"
    }
   ],
   "source": [
    "# Looing at vehicle year\n",
    "\n",
    "nyc_df['Vehicle_Year'].value_counts().head(50)"
   ]
  },
  {
   "cell_type": "markdown",
   "id": "14de513a",
   "metadata": {},
   "source": [
    "A lot of 0 values. This could give us some poor results. The most popular car year for violations was 2015."
   ]
  },
  {
   "cell_type": "code",
   "execution_count": 14,
   "id": "4da02397",
   "metadata": {},
   "outputs": [
    {
     "data": {
      "text/plain": [
       "1140A    2682\n",
       "0836A    2675\n",
       "1136A    2565\n",
       "0906A    2467\n",
       "0840A    2456\n",
       "0936A    2425\n",
       "1145A    2395\n",
       "1142A    2382\n",
       "0940A    2378\n",
       "0945A    2353\n",
       "Name: Violation_Time, dtype: int64"
      ]
     },
     "execution_count": 14,
     "metadata": {},
     "output_type": "execute_result"
    }
   ],
   "source": [
    "# looking at violation times\n",
    "\n",
    "nyc_df['Violation_Time'].value_counts().head(10)"
   ]
  },
  {
   "cell_type": "markdown",
   "id": "f77d98f6",
   "metadata": {},
   "source": [
    "Most tickets are in the morning, between the hours of 8:30 AM to 11:45 AM. The data is also in string form. This could cause some issues."
   ]
  },
  {
   "cell_type": "markdown",
   "id": "a36a3c23",
   "metadata": {},
   "source": [
    "Next, I took most popular value types and filtered it out in excel. I uploaded the filtered excel sheet and continued the analysis."
   ]
  },
  {
   "cell_type": "code",
   "execution_count": 15,
   "id": "74b28ea8",
   "metadata": {},
   "outputs": [
    {
     "name": "stderr",
     "output_type": "stream",
     "text": [
      "C:\\Users\\loren\\anaconda3\\envs\\mlenv\\lib\\site-packages\\IPython\\core\\interactiveshell.py:3457: DtypeWarning: Columns (0,2,3,4) have mixed types.Specify dtype option on import or set low_memory=False.\n",
      "  exec(code_obj, self.user_global_ns, self.user_ns)\n"
     ]
    },
    {
     "data": {
      "text/html": [
       "<div>\n",
       "<style scoped>\n",
       "    .dataframe tbody tr th:only-of-type {\n",
       "        vertical-align: middle;\n",
       "    }\n",
       "\n",
       "    .dataframe tbody tr th {\n",
       "        vertical-align: top;\n",
       "    }\n",
       "\n",
       "    .dataframe thead th {\n",
       "        text-align: right;\n",
       "    }\n",
       "</style>\n",
       "<table border=\"1\" class=\"dataframe\">\n",
       "  <thead>\n",
       "    <tr style=\"text-align: right;\">\n",
       "      <th></th>\n",
       "      <th>Plate_Type</th>\n",
       "      <th>Violation_Code</th>\n",
       "      <th>Vehicle_Body_Type</th>\n",
       "      <th>Vehicle_Color</th>\n",
       "      <th>Vehicle_Year</th>\n",
       "      <th>Violation_County</th>\n",
       "      <th>Violation_Time</th>\n",
       "    </tr>\n",
       "  </thead>\n",
       "  <tbody>\n",
       "    <tr>\n",
       "      <th>0</th>\n",
       "      <td>PAS</td>\n",
       "      <td>21.0</td>\n",
       "      <td>SUBN</td>\n",
       "      <td>SILVE</td>\n",
       "      <td>2008</td>\n",
       "      <td>K</td>\n",
       "      <td>0950A</td>\n",
       "    </tr>\n",
       "    <tr>\n",
       "      <th>1</th>\n",
       "      <td>PAS</td>\n",
       "      <td>38.0</td>\n",
       "      <td>SUBN</td>\n",
       "      <td>WH</td>\n",
       "      <td>2014</td>\n",
       "      <td>NY</td>\n",
       "      <td>0817A</td>\n",
       "    </tr>\n",
       "    <tr>\n",
       "      <th>2</th>\n",
       "      <td>PAS</td>\n",
       "      <td>21.0</td>\n",
       "      <td>4DSD</td>\n",
       "      <td>RED</td>\n",
       "      <td>0</td>\n",
       "      <td>K</td>\n",
       "      <td>0820A</td>\n",
       "    </tr>\n",
       "    <tr>\n",
       "      <th>3</th>\n",
       "      <td>PAS</td>\n",
       "      <td>36.0</td>\n",
       "      <td>4DSD</td>\n",
       "      <td>GY</td>\n",
       "      <td>2011</td>\n",
       "      <td>QN</td>\n",
       "      <td>1047A</td>\n",
       "    </tr>\n",
       "    <tr>\n",
       "      <th>4</th>\n",
       "      <td>PAS</td>\n",
       "      <td>14.0</td>\n",
       "      <td>4DSD</td>\n",
       "      <td>WHITE</td>\n",
       "      <td>0</td>\n",
       "      <td>NY</td>\n",
       "      <td>1031A</td>\n",
       "    </tr>\n",
       "  </tbody>\n",
       "</table>\n",
       "</div>"
      ],
      "text/plain": [
       "  Plate_Type  Violation_Code Vehicle_Body_Type Vehicle_Color Vehicle_Year  \\\n",
       "0        PAS            21.0              SUBN         SILVE         2008   \n",
       "1        PAS            38.0              SUBN            WH         2014   \n",
       "2        PAS            21.0              4DSD           RED            0   \n",
       "3        PAS            36.0              4DSD            GY         2011   \n",
       "4        PAS            14.0              4DSD         WHITE            0   \n",
       "\n",
       "  Violation_County Violation_Time  \n",
       "0                K          0950A  \n",
       "1               NY          0817A  \n",
       "2                K          0820A  \n",
       "3               QN          1047A  \n",
       "4               NY          1031A  "
      ]
     },
     "execution_count": 15,
     "metadata": {},
     "output_type": "execute_result"
    }
   ],
   "source": [
    "# upload filtered dataset\n",
    "\n",
    "nyc_filtered = pd.read_csv(\"./Data/NYC_Tickets_Filtered.csv\")\n",
    "\n",
    "nyc_filtered.head(5)"
   ]
  },
  {
   "cell_type": "code",
   "execution_count": 16,
   "id": "2eed3570",
   "metadata": {},
   "outputs": [
    {
     "name": "stdout",
     "output_type": "stream",
     "text": [
      "<class 'pandas.core.frame.DataFrame'>\n",
      "RangeIndex: 1048575 entries, 0 to 1048574\n",
      "Data columns (total 7 columns):\n",
      " #   Column             Non-Null Count    Dtype  \n",
      "---  ------             --------------    -----  \n",
      " 0   Plate_Type         312025 non-null   object \n",
      " 1   Violation_Code     312025 non-null   float64\n",
      " 2   Vehicle_Body_Type  312025 non-null   object \n",
      " 3   Vehicle_Color      312025 non-null   object \n",
      " 4   Vehicle_Year       1048575 non-null  object \n",
      " 5   Violation_County   1048386 non-null  object \n",
      " 6   Violation_Time     1048572 non-null  object \n",
      "dtypes: float64(1), object(6)\n",
      "memory usage: 56.0+ MB\n"
     ]
    },
    {
     "data": {
      "text/plain": [
       "Plate_Type           736550\n",
       "Violation_Code       736550\n",
       "Vehicle_Body_Type    736550\n",
       "Vehicle_Color        736550\n",
       "Vehicle_Year              0\n",
       "Violation_County        189\n",
       "Violation_Time            3\n",
       "dtype: int64"
      ]
     },
     "execution_count": 16,
     "metadata": {},
     "output_type": "execute_result"
    }
   ],
   "source": [
    "nyc_filtered.info()\n",
    "\n",
    "# checking for nulls\n",
    "nyc_filtered.isna().sum()"
   ]
  },
  {
   "cell_type": "markdown",
   "id": "f41a1348",
   "metadata": {},
   "source": [
    "In three rows there are 709,815 na ammounts. Having to remove this data could produce poor results in our model. "
   ]
  },
  {
   "cell_type": "code",
   "execution_count": 17,
   "id": "b6926ac4",
   "metadata": {},
   "outputs": [
    {
     "name": "stdout",
     "output_type": "stream",
     "text": [
      "<class 'pandas.core.frame.DataFrame'>\n",
      "Int64Index: 311836 entries, 0 to 312024\n",
      "Data columns (total 7 columns):\n",
      " #   Column             Non-Null Count   Dtype  \n",
      "---  ------             --------------   -----  \n",
      " 0   Plate_Type         311836 non-null  object \n",
      " 1   Violation_Code     311836 non-null  float64\n",
      " 2   Vehicle_Body_Type  311836 non-null  object \n",
      " 3   Vehicle_Color      311836 non-null  object \n",
      " 4   Vehicle_Year       311836 non-null  object \n",
      " 5   Violation_County   311836 non-null  object \n",
      " 6   Violation_Time     311836 non-null  object \n",
      "dtypes: float64(1), object(6)\n",
      "memory usage: 19.0+ MB\n"
     ]
    },
    {
     "data": {
      "text/html": [
       "<div>\n",
       "<style scoped>\n",
       "    .dataframe tbody tr th:only-of-type {\n",
       "        vertical-align: middle;\n",
       "    }\n",
       "\n",
       "    .dataframe tbody tr th {\n",
       "        vertical-align: top;\n",
       "    }\n",
       "\n",
       "    .dataframe thead th {\n",
       "        text-align: right;\n",
       "    }\n",
       "</style>\n",
       "<table border=\"1\" class=\"dataframe\">\n",
       "  <thead>\n",
       "    <tr style=\"text-align: right;\">\n",
       "      <th></th>\n",
       "      <th>Plate_Type</th>\n",
       "      <th>Violation_Code</th>\n",
       "      <th>Vehicle_Body_Type</th>\n",
       "      <th>Vehicle_Color</th>\n",
       "      <th>Vehicle_Year</th>\n",
       "      <th>Violation_County</th>\n",
       "      <th>Violation_Time</th>\n",
       "    </tr>\n",
       "  </thead>\n",
       "  <tbody>\n",
       "    <tr>\n",
       "      <th>0</th>\n",
       "      <td>PAS</td>\n",
       "      <td>21.0</td>\n",
       "      <td>SUBN</td>\n",
       "      <td>SILVE</td>\n",
       "      <td>2008</td>\n",
       "      <td>K</td>\n",
       "      <td>0950A</td>\n",
       "    </tr>\n",
       "    <tr>\n",
       "      <th>1</th>\n",
       "      <td>PAS</td>\n",
       "      <td>38.0</td>\n",
       "      <td>SUBN</td>\n",
       "      <td>WH</td>\n",
       "      <td>2014</td>\n",
       "      <td>NY</td>\n",
       "      <td>0817A</td>\n",
       "    </tr>\n",
       "    <tr>\n",
       "      <th>2</th>\n",
       "      <td>PAS</td>\n",
       "      <td>21.0</td>\n",
       "      <td>4DSD</td>\n",
       "      <td>RED</td>\n",
       "      <td>0</td>\n",
       "      <td>K</td>\n",
       "      <td>0820A</td>\n",
       "    </tr>\n",
       "    <tr>\n",
       "      <th>3</th>\n",
       "      <td>PAS</td>\n",
       "      <td>36.0</td>\n",
       "      <td>4DSD</td>\n",
       "      <td>GY</td>\n",
       "      <td>2011</td>\n",
       "      <td>QN</td>\n",
       "      <td>1047A</td>\n",
       "    </tr>\n",
       "    <tr>\n",
       "      <th>4</th>\n",
       "      <td>PAS</td>\n",
       "      <td>14.0</td>\n",
       "      <td>4DSD</td>\n",
       "      <td>WHITE</td>\n",
       "      <td>0</td>\n",
       "      <td>NY</td>\n",
       "      <td>1031A</td>\n",
       "    </tr>\n",
       "    <tr>\n",
       "      <th>5</th>\n",
       "      <td>PAS</td>\n",
       "      <td>36.0</td>\n",
       "      <td>SUBN</td>\n",
       "      <td>BL</td>\n",
       "      <td>2011</td>\n",
       "      <td>QN</td>\n",
       "      <td>0952A</td>\n",
       "    </tr>\n",
       "    <tr>\n",
       "      <th>6</th>\n",
       "      <td>PAS</td>\n",
       "      <td>20.0</td>\n",
       "      <td>SUBN</td>\n",
       "      <td>BK</td>\n",
       "      <td>2016</td>\n",
       "      <td>NY</td>\n",
       "      <td>0921A</td>\n",
       "    </tr>\n",
       "    <tr>\n",
       "      <th>7</th>\n",
       "      <td>PAS</td>\n",
       "      <td>20.0</td>\n",
       "      <td>SUBN</td>\n",
       "      <td>BK</td>\n",
       "      <td>2010</td>\n",
       "      <td>BX</td>\n",
       "      <td>0255A</td>\n",
       "    </tr>\n",
       "    <tr>\n",
       "      <th>8</th>\n",
       "      <td>PAS</td>\n",
       "      <td>38.0</td>\n",
       "      <td>4DSD</td>\n",
       "      <td>GY</td>\n",
       "      <td>2015</td>\n",
       "      <td>NY</td>\n",
       "      <td>0936P</td>\n",
       "    </tr>\n",
       "    <tr>\n",
       "      <th>9</th>\n",
       "      <td>PAS</td>\n",
       "      <td>38.0</td>\n",
       "      <td>SUBN</td>\n",
       "      <td>GY</td>\n",
       "      <td>2005</td>\n",
       "      <td>K</td>\n",
       "      <td>0958A</td>\n",
       "    </tr>\n",
       "    <tr>\n",
       "      <th>10</th>\n",
       "      <td>PAS</td>\n",
       "      <td>21.0</td>\n",
       "      <td>2DSD</td>\n",
       "      <td>GY</td>\n",
       "      <td>2006</td>\n",
       "      <td>Q</td>\n",
       "      <td>0936A</td>\n",
       "    </tr>\n",
       "    <tr>\n",
       "      <th>11</th>\n",
       "      <td>PAS</td>\n",
       "      <td>38.0</td>\n",
       "      <td>4DSD</td>\n",
       "      <td>GY</td>\n",
       "      <td>2013</td>\n",
       "      <td>Q</td>\n",
       "      <td>1003A</td>\n",
       "    </tr>\n",
       "    <tr>\n",
       "      <th>12</th>\n",
       "      <td>PAS</td>\n",
       "      <td>20.0</td>\n",
       "      <td>SUBN</td>\n",
       "      <td>BL</td>\n",
       "      <td>2014</td>\n",
       "      <td>K</td>\n",
       "      <td>0304P</td>\n",
       "    </tr>\n",
       "    <tr>\n",
       "      <th>13</th>\n",
       "      <td>PAS</td>\n",
       "      <td>21.0</td>\n",
       "      <td>SUBN</td>\n",
       "      <td>WH</td>\n",
       "      <td>2011</td>\n",
       "      <td>Q</td>\n",
       "      <td>0812A</td>\n",
       "    </tr>\n",
       "    <tr>\n",
       "      <th>14</th>\n",
       "      <td>PAS</td>\n",
       "      <td>21.0</td>\n",
       "      <td>SUBN</td>\n",
       "      <td>BL</td>\n",
       "      <td>2006</td>\n",
       "      <td>Q</td>\n",
       "      <td>0104P</td>\n",
       "    </tr>\n",
       "  </tbody>\n",
       "</table>\n",
       "</div>"
      ],
      "text/plain": [
       "   Plate_Type  Violation_Code Vehicle_Body_Type Vehicle_Color Vehicle_Year  \\\n",
       "0         PAS            21.0              SUBN         SILVE         2008   \n",
       "1         PAS            38.0              SUBN            WH         2014   \n",
       "2         PAS            21.0              4DSD           RED            0   \n",
       "3         PAS            36.0              4DSD            GY         2011   \n",
       "4         PAS            14.0              4DSD         WHITE            0   \n",
       "5         PAS            36.0              SUBN            BL         2011   \n",
       "6         PAS            20.0              SUBN            BK         2016   \n",
       "7         PAS            20.0              SUBN            BK         2010   \n",
       "8         PAS            38.0              4DSD            GY         2015   \n",
       "9         PAS            38.0              SUBN            GY         2005   \n",
       "10        PAS            21.0              2DSD            GY         2006   \n",
       "11        PAS            38.0              4DSD            GY         2013   \n",
       "12        PAS            20.0              SUBN            BL         2014   \n",
       "13        PAS            21.0              SUBN            WH         2011   \n",
       "14        PAS            21.0              SUBN            BL         2006   \n",
       "\n",
       "   Violation_County Violation_Time  \n",
       "0                 K          0950A  \n",
       "1                NY          0817A  \n",
       "2                 K          0820A  \n",
       "3                QN          1047A  \n",
       "4                NY          1031A  \n",
       "5                QN          0952A  \n",
       "6                NY          0921A  \n",
       "7                BX          0255A  \n",
       "8                NY          0936P  \n",
       "9                 K          0958A  \n",
       "10                Q          0936A  \n",
       "11                Q          1003A  \n",
       "12                K          0304P  \n",
       "13                Q          0812A  \n",
       "14                Q          0104P  "
      ]
     },
     "execution_count": 17,
     "metadata": {},
     "output_type": "execute_result"
    }
   ],
   "source": [
    "#dropping nulls\n",
    "nyc_drop = nyc_filtered.dropna()\n",
    "nyc_drop.info()\n",
    "nyc_drop.head(15)"
   ]
  },
  {
   "cell_type": "markdown",
   "id": "7cd95bf9",
   "metadata": {},
   "source": [
    "Now the data has reduced to having 338,523 entries"
   ]
  },
  {
   "cell_type": "code",
   "execution_count": 18,
   "id": "242501e5",
   "metadata": {},
   "outputs": [
    {
     "name": "stderr",
     "output_type": "stream",
     "text": [
      "C:\\Users\\loren\\anaconda3\\envs\\mlenv\\lib\\site-packages\\ipykernel_launcher.py:29: SettingWithCopyWarning: \n",
      "A value is trying to be set on a copy of a slice from a DataFrame.\n",
      "Try using .loc[row_indexer,col_indexer] = value instead\n",
      "\n",
      "See the caveats in the documentation: https://pandas.pydata.org/pandas-docs/stable/user_guide/indexing.html#returning-a-view-versus-a-copy\n"
     ]
    },
    {
     "data": {
      "text/html": [
       "<div>\n",
       "<style scoped>\n",
       "    .dataframe tbody tr th:only-of-type {\n",
       "        vertical-align: middle;\n",
       "    }\n",
       "\n",
       "    .dataframe tbody tr th {\n",
       "        vertical-align: top;\n",
       "    }\n",
       "\n",
       "    .dataframe thead th {\n",
       "        text-align: right;\n",
       "    }\n",
       "</style>\n",
       "<table border=\"1\" class=\"dataframe\">\n",
       "  <thead>\n",
       "    <tr style=\"text-align: right;\">\n",
       "      <th></th>\n",
       "      <th>Plate_Type</th>\n",
       "      <th>Violation_Code</th>\n",
       "      <th>Vehicle_Body_Type</th>\n",
       "      <th>Vehicle_Color</th>\n",
       "      <th>Vehicle_Year</th>\n",
       "      <th>Violation_County</th>\n",
       "      <th>Violation_Time</th>\n",
       "    </tr>\n",
       "  </thead>\n",
       "  <tbody>\n",
       "    <tr>\n",
       "      <th>0</th>\n",
       "      <td>PAS</td>\n",
       "      <td>21.0</td>\n",
       "      <td>SUBN</td>\n",
       "      <td>SILVER</td>\n",
       "      <td>2008</td>\n",
       "      <td>K</td>\n",
       "      <td>0950A</td>\n",
       "    </tr>\n",
       "    <tr>\n",
       "      <th>1</th>\n",
       "      <td>PAS</td>\n",
       "      <td>38.0</td>\n",
       "      <td>SUBN</td>\n",
       "      <td>WHITE</td>\n",
       "      <td>2014</td>\n",
       "      <td>NY</td>\n",
       "      <td>0817A</td>\n",
       "    </tr>\n",
       "    <tr>\n",
       "      <th>2</th>\n",
       "      <td>PAS</td>\n",
       "      <td>21.0</td>\n",
       "      <td>4DSD</td>\n",
       "      <td>RED</td>\n",
       "      <td>0</td>\n",
       "      <td>K</td>\n",
       "      <td>0820A</td>\n",
       "    </tr>\n",
       "    <tr>\n",
       "      <th>3</th>\n",
       "      <td>PAS</td>\n",
       "      <td>36.0</td>\n",
       "      <td>4DSD</td>\n",
       "      <td>GREY</td>\n",
       "      <td>2011</td>\n",
       "      <td>QN</td>\n",
       "      <td>1047A</td>\n",
       "    </tr>\n",
       "    <tr>\n",
       "      <th>4</th>\n",
       "      <td>PAS</td>\n",
       "      <td>14.0</td>\n",
       "      <td>4DSD</td>\n",
       "      <td>WHITE</td>\n",
       "      <td>0</td>\n",
       "      <td>NY</td>\n",
       "      <td>1031A</td>\n",
       "    </tr>\n",
       "    <tr>\n",
       "      <th>...</th>\n",
       "      <td>...</td>\n",
       "      <td>...</td>\n",
       "      <td>...</td>\n",
       "      <td>...</td>\n",
       "      <td>...</td>\n",
       "      <td>...</td>\n",
       "      <td>...</td>\n",
       "    </tr>\n",
       "    <tr>\n",
       "      <th>312020</th>\n",
       "      <td>PAS</td>\n",
       "      <td>14.0</td>\n",
       "      <td>4DSD</td>\n",
       "      <td>BLACK</td>\n",
       "      <td>2011</td>\n",
       "      <td>NY</td>\n",
       "      <td>0412P</td>\n",
       "    </tr>\n",
       "    <tr>\n",
       "      <th>312021</th>\n",
       "      <td>PAS</td>\n",
       "      <td>21.0</td>\n",
       "      <td>SUBN</td>\n",
       "      <td>GREEN</td>\n",
       "      <td>2004</td>\n",
       "      <td>Q</td>\n",
       "      <td>1201P</td>\n",
       "    </tr>\n",
       "    <tr>\n",
       "      <th>312022</th>\n",
       "      <td>PAS</td>\n",
       "      <td>36.0</td>\n",
       "      <td>4DSD</td>\n",
       "      <td>RED</td>\n",
       "      <td>2003</td>\n",
       "      <td>QN</td>\n",
       "      <td>0200P</td>\n",
       "    </tr>\n",
       "    <tr>\n",
       "      <th>312023</th>\n",
       "      <td>PAS</td>\n",
       "      <td>38.0</td>\n",
       "      <td>4DSD</td>\n",
       "      <td>BLUE</td>\n",
       "      <td>2015</td>\n",
       "      <td>K</td>\n",
       "      <td>0202P</td>\n",
       "    </tr>\n",
       "    <tr>\n",
       "      <th>312024</th>\n",
       "      <td>PAS</td>\n",
       "      <td>21.0</td>\n",
       "      <td>SUBN</td>\n",
       "      <td>GREY</td>\n",
       "      <td>2004</td>\n",
       "      <td>K</td>\n",
       "      <td>0907A</td>\n",
       "    </tr>\n",
       "  </tbody>\n",
       "</table>\n",
       "<p>311836 rows × 7 columns</p>\n",
       "</div>"
      ],
      "text/plain": [
       "       Plate_Type  Violation_Code Vehicle_Body_Type Vehicle_Color  \\\n",
       "0             PAS            21.0              SUBN        SILVER   \n",
       "1             PAS            38.0              SUBN         WHITE   \n",
       "2             PAS            21.0              4DSD           RED   \n",
       "3             PAS            36.0              4DSD          GREY   \n",
       "4             PAS            14.0              4DSD         WHITE   \n",
       "...           ...             ...               ...           ...   \n",
       "312020        PAS            14.0              4DSD         BLACK   \n",
       "312021        PAS            21.0              SUBN         GREEN   \n",
       "312022        PAS            36.0              4DSD           RED   \n",
       "312023        PAS            38.0              4DSD          BLUE   \n",
       "312024        PAS            21.0              SUBN          GREY   \n",
       "\n",
       "       Vehicle_Year Violation_County Violation_Time  \n",
       "0              2008                K          0950A  \n",
       "1              2014               NY          0817A  \n",
       "2                 0                K          0820A  \n",
       "3              2011               QN          1047A  \n",
       "4                 0               NY          1031A  \n",
       "...             ...              ...            ...  \n",
       "312020         2011               NY          0412P  \n",
       "312021         2004                Q          1201P  \n",
       "312022         2003               QN          0200P  \n",
       "312023         2015                K          0202P  \n",
       "312024         2004                K          0907A  \n",
       "\n",
       "[311836 rows x 7 columns]"
      ]
     },
     "execution_count": 18,
     "metadata": {},
     "output_type": "execute_result"
    }
   ],
   "source": [
    "# Fix Colors \n",
    "def change_color(color):\n",
    "  if color == 'GY':\n",
    "    return 'GREY'\n",
    "  elif color == 'BK':\n",
    "    return 'BLACK'\n",
    "  elif color == 'BLAK':\n",
    "    return 'BLACK'\n",
    "  elif color == 'WH':\n",
    "    return 'WHITE'\n",
    "  elif color == 'BL':\n",
    "    return 'BLUE'\n",
    "  elif color == 'RD':\n",
    "    return 'RED'\n",
    "  elif color == 'SILVE':\n",
    "    return 'SILVER'\n",
    "  elif color == 'GR':\n",
    "    return 'GREEN'\n",
    "  elif color == 'YW':\n",
    "    return 'YELLOW'\n",
    "  elif color == 'YELLO':\n",
    "    return 'YELLOW'\n",
    "  elif color == 'ORANG':\n",
    "    return 'ORANGE'\n",
    "  elif color == 'PURPL':\n",
    "    return 'PURPLE'\n",
    "  else: return color;\n",
    "    \n",
    "nyc_drop['Vehicle_Color']= nyc_drop['Vehicle_Color'].apply(change_color)\n",
    "nyc_drop"
   ]
  },
  {
   "cell_type": "code",
   "execution_count": 19,
   "id": "76cf0f01-b670-4ac7-b800-9361b7815a5a",
   "metadata": {},
   "outputs": [
    {
     "name": "stdout",
     "output_type": "stream",
     "text": [
      "<class 'pandas.core.frame.DataFrame'>\n",
      "Int64Index: 267967 entries, 0 to 312024\n",
      "Data columns (total 7 columns):\n",
      " #   Column             Non-Null Count   Dtype  \n",
      "---  ------             --------------   -----  \n",
      " 0   Plate_Type         267967 non-null  object \n",
      " 1   Violation_Code     267967 non-null  float64\n",
      " 2   Vehicle_Body_Type  267967 non-null  object \n",
      " 3   Vehicle_Color      267967 non-null  object \n",
      " 4   Vehicle_Year       267967 non-null  object \n",
      " 5   Violation_County   267967 non-null  object \n",
      " 6   Violation_Time     267967 non-null  object \n",
      "dtypes: float64(1), object(6)\n",
      "memory usage: 16.4+ MB\n"
     ]
    }
   ],
   "source": [
    "# drop Vehicle_Year rows with 0's\n",
    "nyc_drop= nyc_drop[nyc_drop.Vehicle_Year != 0]\n",
    "nyc_drop.info()"
   ]
  },
  {
   "cell_type": "code",
   "execution_count": 59,
   "id": "9ae1061d",
   "metadata": {},
   "outputs": [
    {
     "data": {
      "text/plain": [
       "SUBN    138808\n",
       "4DSD    110410\n",
       "2DSD      9922\n",
       "PICK      8827\n",
       "Name: Vehicle_Body_Type, dtype: int64"
      ]
     },
     "execution_count": 59,
     "metadata": {},
     "output_type": "execute_result"
    }
   ],
   "source": [
    "nyc_drop['Vehicle_Body_Type'].value_counts()"
   ]
  },
  {
   "cell_type": "code",
   "execution_count": 60,
   "id": "4ff9bcaa",
   "metadata": {},
   "outputs": [
    {
     "data": {
      "text/plain": [
       "1140A    2682\n",
       "0836A    2675\n",
       "1136A    2565\n",
       "0906A    2467\n",
       "0840A    2456\n",
       "0936A    2425\n",
       "1145A    2395\n",
       "1142A    2382\n",
       "0940A    2378\n",
       "0945A    2353\n",
       "Name: Violation_Time, dtype: int64"
      ]
     },
     "execution_count": 60,
     "metadata": {},
     "output_type": "execute_result"
    }
   ],
   "source": [
    "nyc_df['Vehicle_Year'].value_counts().head(10)"
   ]
  },
  {
   "cell_type": "code",
   "execution_count": 20,
   "id": "185eb1f4",
   "metadata": {},
   "outputs": [],
   "source": [
    "# upload dropped na dataframe to csv\n",
    "#nyc_drop.to_csv('dropped_na_nyc_filtered.csv', index = False)"
   ]
  },
  {
   "cell_type": "code",
   "execution_count": 22,
   "id": "6700e117",
   "metadata": {
    "scrolled": true
   },
   "outputs": [
    {
     "name": "stderr",
     "output_type": "stream",
     "text": [
      "C:\\Users\\loren\\anaconda3\\envs\\mlenv\\lib\\site-packages\\seaborn\\_decorators.py:43: FutureWarning: Pass the following variable as a keyword arg: x. From version 0.12, the only valid positional argument will be `data`, and passing other arguments without an explicit keyword will result in an error or misinterpretation.\n",
      "  FutureWarning\n"
     ]
    },
    {
     "data": {
      "image/png": "[encoded data removed]",
      "text/plain": [
       "<Figure size 432x288 with 1 Axes>"
      ]
     },
     "metadata": {
      "needs_background": "light"
     },
     "output_type": "display_data"
    }
   ],
   "source": [
    "sns.countplot(nyc_drop['Violation_County']);"
   ]
  },
  {
   "cell_type": "code",
   "execution_count": 36,
   "id": "da2a1df4",
   "metadata": {},
   "outputs": [
    {
     "name": "stderr",
     "output_type": "stream",
     "text": [
      "C:\\Users\\loren\\anaconda3\\envs\\mlenv\\lib\\site-packages\\seaborn\\_decorators.py:43: FutureWarning: Pass the following variable as a keyword arg: x. From version 0.12, the only valid positional argument will be `data`, and passing other arguments without an explicit keyword will result in an error or misinterpretation.\n",
      "  FutureWarning\n"
     ]
    },
    {
     "data": {
      "image/png": "[encoded data removed]",
      "text/plain": [
       "<Figure size 432x288 with 1 Axes>"
      ]
     },
     "metadata": {
      "needs_background": "light"
     },
     "output_type": "display_data"
    }
   ],
   "source": [
    "sns.countplot(nyc_drop['Vehicle_Color']);"
   ]
  },
  {
   "cell_type": "code",
   "execution_count": 58,
   "id": "0f77c58a",
   "metadata": {},
   "outputs": [
    {
     "name": "stderr",
     "output_type": "stream",
     "text": [
      "C:\\Users\\loren\\anaconda3\\envs\\mlenv\\lib\\site-packages\\seaborn\\_decorators.py:43: FutureWarning: Pass the following variable as a keyword arg: x. From version 0.12, the only valid positional argument will be `data`, and passing other arguments without an explicit keyword will result in an error or misinterpretation.\n",
      "  FutureWarning\n"
     ]
    },
    {
     "data": {
      "image/png": "[encoded data removed]",
      "text/plain": [
       "<Figure size 432x288 with 1 Axes>"
      ]
     },
     "metadata": {
      "needs_background": "light"
     },
     "output_type": "display_data"
    }
   ],
   "source": [
    "sns.countplot(nyc_drop['Plate_Type']);\n",
    "\n"
   ]
  },
  {
   "cell_type": "code",
   "execution_count": 56,
   "id": "2bb5e06e",
   "metadata": {
    "scrolled": true
   },
   "outputs": [
    {
     "data": {
      "text/plain": [
       "<AxesSubplot:>"
      ]
     },
     "execution_count": 56,
     "metadata": {},
     "output_type": "execute_result"
    },
    {
     "data": {
      "image/png": "[encoded data removed]",
      "text/plain": [
       "<Figure size 1440x720 with 1 Axes>"
      ]
     },
     "metadata": {
      "needs_background": "light"
     },
     "output_type": "display_data"
    }
   ],
   "source": [
    "year = pd.DataFrame(nyc_drop, columns = \n",
    "     ['Vehicle_Year'])\n",
    "\n",
    "\n",
    "#sns.countplot(time['Violation_Time']);\n",
    "\n",
    "year['Vehicle_Year'].value_counts().head(10).plot(kind='barh', figsize=(20,10))"
   ]
  },
  {
   "cell_type": "code",
   "execution_count": 24,
   "id": "579d8937",
   "metadata": {},
   "outputs": [
    {
     "name": "stderr",
     "output_type": "stream",
     "text": [
      "C:\\Users\\loren\\anaconda3\\envs\\mlenv\\lib\\site-packages\\seaborn\\_decorators.py:43: FutureWarning: Pass the following variable as a keyword arg: x. From version 0.12, the only valid positional argument will be `data`, and passing other arguments without an explicit keyword will result in an error or misinterpretation.\n",
      "  FutureWarning\n"
     ]
    },
    {
     "data": {
      "image/png": "[encoded data removed]",
      "text/plain": [
       "<Figure size 432x288 with 1 Axes>"
      ]
     },
     "metadata": {
      "needs_background": "light"
     },
     "output_type": "display_data"
    }
   ],
   "source": [
    "sns.countplot(nyc_drop['Violation_Code']);"
   ]
  },
  {
   "cell_type": "code",
   "execution_count": 49,
   "id": "3041c1b1",
   "metadata": {},
   "outputs": [
    {
     "data": {
      "image/png": "[encoded data removed]",
      "text/plain": [
       "<Figure size 432x288 with 1 Axes>"
      ]
     },
     "metadata": {
      "needs_background": "light"
     },
     "output_type": "display_data"
    }
   ],
   "source": [
    "# class v / s fare barplot\n",
    "sns.countplot(x ='Plate_Type', data = nyc_drop,color=\"salmon\", facecolor=(0, 0, 0, 0),\n",
    "                   linewidth=10,\n",
    "                   edgecolor=sns.color_palette(\"BrBG\", 2))\n",
    "# Show the plot\n",
    "plt.show()"
   ]
  },
  {
   "cell_type": "code",
   "execution_count": 47,
   "id": "c6e6b411",
   "metadata": {},
   "outputs": [
    {
     "data": {
      "image/png": "[encoded data removed]",
      "text/plain": [
       "<Figure size 432x288 with 1 Axes>"
      ]
     },
     "metadata": {
      "needs_background": "light"
     },
     "output_type": "display_data"
    }
   ],
   "source": [
    "\n",
    "\n",
    "# class v / s fare barplot\n",
    "sns.countplot(x ='Vehicle_Body_Type', data = nyc_drop,color=\"salmon\", facecolor=(0, 0, 0, 0),\n",
    "                   linewidth=10,\n",
    "                   edgecolor=sns.color_palette(\"BrBG\", 2))\n",
    "# Show the plot\n",
    "plt.show()"
   ]
  },
  {
   "cell_type": "code",
   "execution_count": null,
   "id": "189e8cc4",
   "metadata": {},
   "outputs": [],
   "source": []
  }
 ],
 "metadata": {
  "kernelspec": {
   "display_name": "mlenv",
   "language": "python",
   "name": "mlenv"
  },
  "language_info": {
   "codemirror_mode": {
    "name": "ipython",
    "version": 3
   },
   "file_extension": ".py",
   "mimetype": "text/x-python",
   "name": "python",
   "nbconvert_exporter": "python",
   "pygments_lexer": "ipython3",
   "version": "3.7.13"
  }
 },
 "nbformat": 4,
 "nbformat_minor": 5
}

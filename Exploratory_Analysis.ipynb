{
 "cells": [
  {
   "cell_type": "code",
   "execution_count": 1,
   "id": "c8798cb4",
   "metadata": {},
   "outputs": [],
   "source": [
    "# imports\n",
    "import numpy as np\n",
    "import pandas as pd\n",
    "from matplotlib import pyplot as plt"
   ]
  },
  {
   "cell_type": "code",
   "execution_count": 22,
   "id": "76157d6d",
   "metadata": {},
   "outputs": [
    {
     "name": "stderr",
     "output_type": "stream",
     "text": [
      "C:\\Users\\loren\\anaconda3\\envs\\mlenv\\lib\\site-packages\\IPython\\core\\interactiveshell.py:3457: DtypeWarning: Columns (0,2,3,4) have mixed types.Specify dtype option on import or set low_memory=False.\n",
      "  exec(code_obj, self.user_global_ns, self.user_ns)\n"
     ]
    },
    {
     "data": {
      "text/html": [
       "<div>\n",
       "<style scoped>\n",
       "    .dataframe tbody tr th:only-of-type {\n",
       "        vertical-align: middle;\n",
       "    }\n",
       "\n",
       "    .dataframe tbody tr th {\n",
       "        vertical-align: top;\n",
       "    }\n",
       "\n",
       "    .dataframe thead th {\n",
       "        text-align: right;\n",
       "    }\n",
       "</style>\n",
       "<table border=\"1\" class=\"dataframe\">\n",
       "  <thead>\n",
       "    <tr style=\"text-align: right;\">\n",
       "      <th></th>\n",
       "      <th>Plate_Type</th>\n",
       "      <th>Violation_Code</th>\n",
       "      <th>Vehicle_Body_Type</th>\n",
       "      <th>Vehicle_Color</th>\n",
       "      <th>Vehicle_Year</th>\n",
       "      <th>Violation_County</th>\n",
       "    </tr>\n",
       "  </thead>\n",
       "  <tbody>\n",
       "    <tr>\n",
       "      <th>0</th>\n",
       "      <td>PAS</td>\n",
       "      <td>7.0</td>\n",
       "      <td>SUBN</td>\n",
       "      <td>GY</td>\n",
       "      <td>2001</td>\n",
       "      <td>BX</td>\n",
       "    </tr>\n",
       "    <tr>\n",
       "      <th>1</th>\n",
       "      <td>PAS</td>\n",
       "      <td>7.0</td>\n",
       "      <td>SUBN</td>\n",
       "      <td>GY</td>\n",
       "      <td>2001</td>\n",
       "      <td>BX</td>\n",
       "    </tr>\n",
       "    <tr>\n",
       "      <th>2</th>\n",
       "      <td>PAS</td>\n",
       "      <td>7.0</td>\n",
       "      <td>SUBN</td>\n",
       "      <td>WH</td>\n",
       "      <td>2012</td>\n",
       "      <td>QN</td>\n",
       "    </tr>\n",
       "    <tr>\n",
       "      <th>3</th>\n",
       "      <td>PAS</td>\n",
       "      <td>38.0</td>\n",
       "      <td>SUBN</td>\n",
       "      <td>WH</td>\n",
       "      <td>2014</td>\n",
       "      <td>NY</td>\n",
       "    </tr>\n",
       "    <tr>\n",
       "      <th>4</th>\n",
       "      <td>PAS</td>\n",
       "      <td>36.0</td>\n",
       "      <td>4DSD</td>\n",
       "      <td>GY</td>\n",
       "      <td>2011</td>\n",
       "      <td>QN</td>\n",
       "    </tr>\n",
       "    <tr>\n",
       "      <th>5</th>\n",
       "      <td>PAS</td>\n",
       "      <td>14.0</td>\n",
       "      <td>4DSD</td>\n",
       "      <td>WHITE</td>\n",
       "      <td>0</td>\n",
       "      <td>NY</td>\n",
       "    </tr>\n",
       "    <tr>\n",
       "      <th>6</th>\n",
       "      <td>PAS</td>\n",
       "      <td>38.0</td>\n",
       "      <td>4DSD</td>\n",
       "      <td>BLACK</td>\n",
       "      <td>0</td>\n",
       "      <td>BX</td>\n",
       "    </tr>\n",
       "    <tr>\n",
       "      <th>7</th>\n",
       "      <td>PAS</td>\n",
       "      <td>36.0</td>\n",
       "      <td>SUBN</td>\n",
       "      <td>BL</td>\n",
       "      <td>2011</td>\n",
       "      <td>QN</td>\n",
       "    </tr>\n",
       "    <tr>\n",
       "      <th>8</th>\n",
       "      <td>PAS</td>\n",
       "      <td>38.0</td>\n",
       "      <td>4DSD</td>\n",
       "      <td>GY</td>\n",
       "      <td>2015</td>\n",
       "      <td>NY</td>\n",
       "    </tr>\n",
       "    <tr>\n",
       "      <th>9</th>\n",
       "      <td>PAS</td>\n",
       "      <td>38.0</td>\n",
       "      <td>SUBN</td>\n",
       "      <td>GY</td>\n",
       "      <td>2005</td>\n",
       "      <td>K</td>\n",
       "    </tr>\n",
       "    <tr>\n",
       "      <th>10</th>\n",
       "      <td>PAS</td>\n",
       "      <td>38.0</td>\n",
       "      <td>SUBN</td>\n",
       "      <td>BLACK</td>\n",
       "      <td>0</td>\n",
       "      <td>BX</td>\n",
       "    </tr>\n",
       "    <tr>\n",
       "      <th>11</th>\n",
       "      <td>PAS</td>\n",
       "      <td>38.0</td>\n",
       "      <td>4DSD</td>\n",
       "      <td>GY</td>\n",
       "      <td>2013</td>\n",
       "      <td>Q</td>\n",
       "    </tr>\n",
       "    <tr>\n",
       "      <th>12</th>\n",
       "      <td>PAS</td>\n",
       "      <td>36.0</td>\n",
       "      <td>2DSD</td>\n",
       "      <td>WH</td>\n",
       "      <td>2003</td>\n",
       "      <td>ST</td>\n",
       "    </tr>\n",
       "    <tr>\n",
       "      <th>13</th>\n",
       "      <td>PAS</td>\n",
       "      <td>38.0</td>\n",
       "      <td>4DSD</td>\n",
       "      <td>BL</td>\n",
       "      <td>2009</td>\n",
       "      <td>K</td>\n",
       "    </tr>\n",
       "    <tr>\n",
       "      <th>14</th>\n",
       "      <td>PAS</td>\n",
       "      <td>38.0</td>\n",
       "      <td>SUBN</td>\n",
       "      <td>BL</td>\n",
       "      <td>2007</td>\n",
       "      <td>Q</td>\n",
       "    </tr>\n",
       "    <tr>\n",
       "      <th>15</th>\n",
       "      <td>PAS</td>\n",
       "      <td>36.0</td>\n",
       "      <td>4DSD</td>\n",
       "      <td>GY</td>\n",
       "      <td>2010</td>\n",
       "      <td>QN</td>\n",
       "    </tr>\n",
       "    <tr>\n",
       "      <th>16</th>\n",
       "      <td>PAS</td>\n",
       "      <td>7.0</td>\n",
       "      <td>SUBN</td>\n",
       "      <td>BL</td>\n",
       "      <td>2009</td>\n",
       "      <td>BK</td>\n",
       "    </tr>\n",
       "    <tr>\n",
       "      <th>17</th>\n",
       "      <td>PAS</td>\n",
       "      <td>38.0</td>\n",
       "      <td>SUBN</td>\n",
       "      <td>BK</td>\n",
       "      <td>2016</td>\n",
       "      <td>Q</td>\n",
       "    </tr>\n",
       "    <tr>\n",
       "      <th>18</th>\n",
       "      <td>PAS</td>\n",
       "      <td>38.0</td>\n",
       "      <td>4DSD</td>\n",
       "      <td>WHITE</td>\n",
       "      <td>0</td>\n",
       "      <td>BX</td>\n",
       "    </tr>\n",
       "    <tr>\n",
       "      <th>19</th>\n",
       "      <td>PAS</td>\n",
       "      <td>36.0</td>\n",
       "      <td>4DSD</td>\n",
       "      <td>RD</td>\n",
       "      <td>2009</td>\n",
       "      <td>QN</td>\n",
       "    </tr>\n",
       "  </tbody>\n",
       "</table>\n",
       "</div>"
      ],
      "text/plain": [
       "   Plate_Type  Violation_Code Vehicle_Body_Type Vehicle_Color Vehicle_Year  \\\n",
       "0         PAS             7.0              SUBN            GY         2001   \n",
       "1         PAS             7.0              SUBN            GY         2001   \n",
       "2         PAS             7.0              SUBN            WH         2012   \n",
       "3         PAS            38.0              SUBN            WH         2014   \n",
       "4         PAS            36.0              4DSD            GY         2011   \n",
       "5         PAS            14.0              4DSD         WHITE            0   \n",
       "6         PAS            38.0              4DSD         BLACK            0   \n",
       "7         PAS            36.0              SUBN            BL         2011   \n",
       "8         PAS            38.0              4DSD            GY         2015   \n",
       "9         PAS            38.0              SUBN            GY         2005   \n",
       "10        PAS            38.0              SUBN         BLACK            0   \n",
       "11        PAS            38.0              4DSD            GY         2013   \n",
       "12        PAS            36.0              2DSD            WH         2003   \n",
       "13        PAS            38.0              4DSD            BL         2009   \n",
       "14        PAS            38.0              SUBN            BL         2007   \n",
       "15        PAS            36.0              4DSD            GY         2010   \n",
       "16        PAS             7.0              SUBN            BL         2009   \n",
       "17        PAS            38.0              SUBN            BK         2016   \n",
       "18        PAS            38.0              4DSD         WHITE            0   \n",
       "19        PAS            36.0              4DSD            RD         2009   \n",
       "\n",
       "   Violation_County  \n",
       "0                BX  \n",
       "1                BX  \n",
       "2                QN  \n",
       "3                NY  \n",
       "4                QN  \n",
       "5                NY  \n",
       "6                BX  \n",
       "7                QN  \n",
       "8                NY  \n",
       "9                 K  \n",
       "10               BX  \n",
       "11                Q  \n",
       "12               ST  \n",
       "13                K  \n",
       "14                Q  \n",
       "15               QN  \n",
       "16               BK  \n",
       "17                Q  \n",
       "18               BX  \n",
       "19               QN  "
      ]
     },
     "execution_count": 22,
     "metadata": {},
     "output_type": "execute_result"
    }
   ],
   "source": [
    "# read csv\n",
    "\n",
    "path = \"./Data/NYC_Tickets_Filtered.csv\"\n",
    "\n",
    "nyc_df = pd.read_csv(path)\n",
    "\n",
    "nyc_df.head(20)"
   ]
  },
  {
   "cell_type": "code",
   "execution_count": 23,
   "id": "5dacca4f",
   "metadata": {},
   "outputs": [
    {
     "data": {
      "text/plain": [
       "(1048575, 6)"
      ]
     },
     "execution_count": 23,
     "metadata": {},
     "output_type": "execute_result"
    }
   ],
   "source": [
    "nyc_df.shape"
   ]
  },
  {
   "cell_type": "code",
   "execution_count": 24,
   "id": "30469a9e",
   "metadata": {},
   "outputs": [
    {
     "name": "stdout",
     "output_type": "stream",
     "text": [
      "<class 'pandas.core.frame.DataFrame'>\n",
      "RangeIndex: 1048575 entries, 0 to 1048574\n",
      "Data columns (total 6 columns):\n",
      " #   Column             Non-Null Count    Dtype  \n",
      "---  ------             --------------    -----  \n",
      " 0   Plate_Type         221500 non-null   object \n",
      " 1   Violation_Code     221500 non-null   float64\n",
      " 2   Vehicle_Body_Type  221500 non-null   object \n",
      " 3   Vehicle_Color      221500 non-null   object \n",
      " 4   Vehicle_Year       1048575 non-null  object \n",
      " 5   Violation_County   1048517 non-null  object \n",
      "dtypes: float64(1), object(5)\n",
      "memory usage: 48.0+ MB\n"
     ]
    }
   ],
   "source": [
    "nyc_df.info()"
   ]
  },
  {
   "cell_type": "code",
   "execution_count": 25,
   "id": "965b1b48",
   "metadata": {},
   "outputs": [
    {
     "data": {
      "text/plain": [
       "Plate_Type           827075\n",
       "Violation_Code       827075\n",
       "Vehicle_Body_Type    827075\n",
       "Vehicle_Color        827075\n",
       "Vehicle_Year              0\n",
       "Violation_County         58\n",
       "dtype: int64"
      ]
     },
     "execution_count": 25,
     "metadata": {},
     "output_type": "execute_result"
    }
   ],
   "source": [
    "nyc_df.isna().sum()"
   ]
  },
  {
   "cell_type": "code",
   "execution_count": 26,
   "id": "55aac8e1",
   "metadata": {},
   "outputs": [
    {
     "name": "stdout",
     "output_type": "stream",
     "text": [
      "<class 'pandas.core.frame.DataFrame'>\n",
      "Int64Index: 221442 entries, 0 to 221499\n",
      "Data columns (total 6 columns):\n",
      " #   Column             Non-Null Count   Dtype  \n",
      "---  ------             --------------   -----  \n",
      " 0   Plate_Type         221442 non-null  object \n",
      " 1   Violation_Code     221442 non-null  float64\n",
      " 2   Vehicle_Body_Type  221442 non-null  object \n",
      " 3   Vehicle_Color      221442 non-null  object \n",
      " 4   Vehicle_Year       221442 non-null  object \n",
      " 5   Violation_County   221442 non-null  object \n",
      "dtypes: float64(1), object(5)\n",
      "memory usage: 11.8+ MB\n"
     ]
    },
    {
     "data": {
      "text/html": [
       "<div>\n",
       "<style scoped>\n",
       "    .dataframe tbody tr th:only-of-type {\n",
       "        vertical-align: middle;\n",
       "    }\n",
       "\n",
       "    .dataframe tbody tr th {\n",
       "        vertical-align: top;\n",
       "    }\n",
       "\n",
       "    .dataframe thead th {\n",
       "        text-align: right;\n",
       "    }\n",
       "</style>\n",
       "<table border=\"1\" class=\"dataframe\">\n",
       "  <thead>\n",
       "    <tr style=\"text-align: right;\">\n",
       "      <th></th>\n",
       "      <th>Plate_Type</th>\n",
       "      <th>Violation_Code</th>\n",
       "      <th>Vehicle_Body_Type</th>\n",
       "      <th>Vehicle_Color</th>\n",
       "      <th>Vehicle_Year</th>\n",
       "      <th>Violation_County</th>\n",
       "    </tr>\n",
       "  </thead>\n",
       "  <tbody>\n",
       "    <tr>\n",
       "      <th>0</th>\n",
       "      <td>PAS</td>\n",
       "      <td>7.0</td>\n",
       "      <td>SUBN</td>\n",
       "      <td>GY</td>\n",
       "      <td>2001</td>\n",
       "      <td>BX</td>\n",
       "    </tr>\n",
       "    <tr>\n",
       "      <th>1</th>\n",
       "      <td>PAS</td>\n",
       "      <td>7.0</td>\n",
       "      <td>SUBN</td>\n",
       "      <td>GY</td>\n",
       "      <td>2001</td>\n",
       "      <td>BX</td>\n",
       "    </tr>\n",
       "    <tr>\n",
       "      <th>2</th>\n",
       "      <td>PAS</td>\n",
       "      <td>7.0</td>\n",
       "      <td>SUBN</td>\n",
       "      <td>WH</td>\n",
       "      <td>2012</td>\n",
       "      <td>QN</td>\n",
       "    </tr>\n",
       "    <tr>\n",
       "      <th>3</th>\n",
       "      <td>PAS</td>\n",
       "      <td>38.0</td>\n",
       "      <td>SUBN</td>\n",
       "      <td>WH</td>\n",
       "      <td>2014</td>\n",
       "      <td>NY</td>\n",
       "    </tr>\n",
       "    <tr>\n",
       "      <th>4</th>\n",
       "      <td>PAS</td>\n",
       "      <td>36.0</td>\n",
       "      <td>4DSD</td>\n",
       "      <td>GY</td>\n",
       "      <td>2011</td>\n",
       "      <td>QN</td>\n",
       "    </tr>\n",
       "    <tr>\n",
       "      <th>5</th>\n",
       "      <td>PAS</td>\n",
       "      <td>14.0</td>\n",
       "      <td>4DSD</td>\n",
       "      <td>WHITE</td>\n",
       "      <td>0</td>\n",
       "      <td>NY</td>\n",
       "    </tr>\n",
       "    <tr>\n",
       "      <th>6</th>\n",
       "      <td>PAS</td>\n",
       "      <td>38.0</td>\n",
       "      <td>4DSD</td>\n",
       "      <td>BLACK</td>\n",
       "      <td>0</td>\n",
       "      <td>BX</td>\n",
       "    </tr>\n",
       "    <tr>\n",
       "      <th>7</th>\n",
       "      <td>PAS</td>\n",
       "      <td>36.0</td>\n",
       "      <td>SUBN</td>\n",
       "      <td>BL</td>\n",
       "      <td>2011</td>\n",
       "      <td>QN</td>\n",
       "    </tr>\n",
       "    <tr>\n",
       "      <th>8</th>\n",
       "      <td>PAS</td>\n",
       "      <td>38.0</td>\n",
       "      <td>4DSD</td>\n",
       "      <td>GY</td>\n",
       "      <td>2015</td>\n",
       "      <td>NY</td>\n",
       "    </tr>\n",
       "    <tr>\n",
       "      <th>9</th>\n",
       "      <td>PAS</td>\n",
       "      <td>38.0</td>\n",
       "      <td>SUBN</td>\n",
       "      <td>GY</td>\n",
       "      <td>2005</td>\n",
       "      <td>K</td>\n",
       "    </tr>\n",
       "    <tr>\n",
       "      <th>10</th>\n",
       "      <td>PAS</td>\n",
       "      <td>38.0</td>\n",
       "      <td>SUBN</td>\n",
       "      <td>BLACK</td>\n",
       "      <td>0</td>\n",
       "      <td>BX</td>\n",
       "    </tr>\n",
       "    <tr>\n",
       "      <th>11</th>\n",
       "      <td>PAS</td>\n",
       "      <td>38.0</td>\n",
       "      <td>4DSD</td>\n",
       "      <td>GY</td>\n",
       "      <td>2013</td>\n",
       "      <td>Q</td>\n",
       "    </tr>\n",
       "    <tr>\n",
       "      <th>12</th>\n",
       "      <td>PAS</td>\n",
       "      <td>36.0</td>\n",
       "      <td>2DSD</td>\n",
       "      <td>WH</td>\n",
       "      <td>2003</td>\n",
       "      <td>ST</td>\n",
       "    </tr>\n",
       "    <tr>\n",
       "      <th>13</th>\n",
       "      <td>PAS</td>\n",
       "      <td>38.0</td>\n",
       "      <td>4DSD</td>\n",
       "      <td>BL</td>\n",
       "      <td>2009</td>\n",
       "      <td>K</td>\n",
       "    </tr>\n",
       "    <tr>\n",
       "      <th>14</th>\n",
       "      <td>PAS</td>\n",
       "      <td>38.0</td>\n",
       "      <td>SUBN</td>\n",
       "      <td>BL</td>\n",
       "      <td>2007</td>\n",
       "      <td>Q</td>\n",
       "    </tr>\n",
       "  </tbody>\n",
       "</table>\n",
       "</div>"
      ],
      "text/plain": [
       "   Plate_Type  Violation_Code Vehicle_Body_Type Vehicle_Color Vehicle_Year  \\\n",
       "0         PAS             7.0              SUBN            GY         2001   \n",
       "1         PAS             7.0              SUBN            GY         2001   \n",
       "2         PAS             7.0              SUBN            WH         2012   \n",
       "3         PAS            38.0              SUBN            WH         2014   \n",
       "4         PAS            36.0              4DSD            GY         2011   \n",
       "5         PAS            14.0              4DSD         WHITE            0   \n",
       "6         PAS            38.0              4DSD         BLACK            0   \n",
       "7         PAS            36.0              SUBN            BL         2011   \n",
       "8         PAS            38.0              4DSD            GY         2015   \n",
       "9         PAS            38.0              SUBN            GY         2005   \n",
       "10        PAS            38.0              SUBN         BLACK            0   \n",
       "11        PAS            38.0              4DSD            GY         2013   \n",
       "12        PAS            36.0              2DSD            WH         2003   \n",
       "13        PAS            38.0              4DSD            BL         2009   \n",
       "14        PAS            38.0              SUBN            BL         2007   \n",
       "\n",
       "   Violation_County  \n",
       "0                BX  \n",
       "1                BX  \n",
       "2                QN  \n",
       "3                NY  \n",
       "4                QN  \n",
       "5                NY  \n",
       "6                BX  \n",
       "7                QN  \n",
       "8                NY  \n",
       "9                 K  \n",
       "10               BX  \n",
       "11                Q  \n",
       "12               ST  \n",
       "13                K  \n",
       "14                Q  "
      ]
     },
     "execution_count": 26,
     "metadata": {},
     "output_type": "execute_result"
    }
   ],
   "source": [
    "# droppping null rows\n",
    "nyc_drop = nyc_df.dropna()\n",
    "nyc_drop.info()\n",
    "nyc_drop.head(15)"
   ]
  },
  {
   "cell_type": "code",
   "execution_count": 27,
   "id": "e975c41a",
   "metadata": {},
   "outputs": [
    {
     "data": {
      "text/plain": [
       "(221442, 6)"
      ]
     },
     "execution_count": 27,
     "metadata": {},
     "output_type": "execute_result"
    }
   ],
   "source": [
    "nyc_drop.shape"
   ]
  },
  {
   "cell_type": "code",
   "execution_count": 28,
   "id": "02c3553e",
   "metadata": {},
   "outputs": [
    {
     "data": {
      "text/plain": [
       "Index(['Plate_Type', 'Violation_Code', 'Vehicle_Body_Type', 'Vehicle_Color',\n",
       "       'Vehicle_Year', 'Violation_County'],\n",
       "      dtype='object')"
      ]
     },
     "execution_count": 28,
     "metadata": {},
     "output_type": "execute_result"
    }
   ],
   "source": [
    "nyc_drop.columns"
   ]
  },
  {
   "cell_type": "code",
   "execution_count": 29,
   "id": "adaf5935",
   "metadata": {},
   "outputs": [
    {
     "data": {
      "text/plain": [
       "Plate_Type            object\n",
       "Violation_Code       float64\n",
       "Vehicle_Body_Type     object\n",
       "Vehicle_Color         object\n",
       "Vehicle_Year          object\n",
       "Violation_County      object\n",
       "dtype: object"
      ]
     },
     "execution_count": 29,
     "metadata": {},
     "output_type": "execute_result"
    }
   ],
   "source": [
    "nyc_drop.dtypes"
   ]
  },
  {
   "cell_type": "code",
   "execution_count": 30,
   "id": "abe807fd",
   "metadata": {},
   "outputs": [
    {
     "data": {
      "text/html": [
       "<div>\n",
       "<style scoped>\n",
       "    .dataframe tbody tr th:only-of-type {\n",
       "        vertical-align: middle;\n",
       "    }\n",
       "\n",
       "    .dataframe tbody tr th {\n",
       "        vertical-align: top;\n",
       "    }\n",
       "\n",
       "    .dataframe thead th {\n",
       "        text-align: right;\n",
       "    }\n",
       "</style>\n",
       "<table border=\"1\" class=\"dataframe\">\n",
       "  <thead>\n",
       "    <tr style=\"text-align: right;\">\n",
       "      <th></th>\n",
       "      <th>Violation_Code</th>\n",
       "    </tr>\n",
       "  </thead>\n",
       "  <tbody>\n",
       "    <tr>\n",
       "      <th>count</th>\n",
       "      <td>221442.000000</td>\n",
       "    </tr>\n",
       "    <tr>\n",
       "      <th>mean</th>\n",
       "      <td>29.499535</td>\n",
       "    </tr>\n",
       "    <tr>\n",
       "      <th>std</th>\n",
       "      <td>11.859930</td>\n",
       "    </tr>\n",
       "    <tr>\n",
       "      <th>min</th>\n",
       "      <td>7.000000</td>\n",
       "    </tr>\n",
       "    <tr>\n",
       "      <th>25%</th>\n",
       "      <td>14.000000</td>\n",
       "    </tr>\n",
       "    <tr>\n",
       "      <th>50%</th>\n",
       "      <td>36.000000</td>\n",
       "    </tr>\n",
       "    <tr>\n",
       "      <th>75%</th>\n",
       "      <td>38.000000</td>\n",
       "    </tr>\n",
       "    <tr>\n",
       "      <th>max</th>\n",
       "      <td>38.000000</td>\n",
       "    </tr>\n",
       "  </tbody>\n",
       "</table>\n",
       "</div>"
      ],
      "text/plain": [
       "       Violation_Code\n",
       "count   221442.000000\n",
       "mean        29.499535\n",
       "std         11.859930\n",
       "min          7.000000\n",
       "25%         14.000000\n",
       "50%         36.000000\n",
       "75%         38.000000\n",
       "max         38.000000"
      ]
     },
     "execution_count": 30,
     "metadata": {},
     "output_type": "execute_result"
    }
   ],
   "source": [
    "nyc_drop.describe()"
   ]
  },
  {
   "cell_type": "code",
   "execution_count": 38,
   "id": "b8c50f2c",
   "metadata": {},
   "outputs": [
    {
     "data": {
      "image/png": "[encoded data removed]",
      "text/plain": [
       "<Figure size 432x288 with 1 Axes>"
      ]
     },
     "metadata": {
      "needs_background": "light"
     },
     "output_type": "display_data"
    }
   ],
   "source": [
    "nyc_drop.hist()\n",
    "plt.tight_layout()\n",
    "plt.show()"
   ]
  },
  {
   "cell_type": "code",
   "execution_count": 31,
   "id": "23ef7f2b",
   "metadata": {},
   "outputs": [],
   "source": [
    "#convert strg to int\n",
    "#nyc_dum = pd.get_dummies(nyc_drop)"
   ]
  },
  {
   "cell_type": "code",
   "execution_count": 32,
   "id": "ded97526",
   "metadata": {},
   "outputs": [
    {
     "data": {
      "text/plain": [
       "PAS    217885\n",
       "COM      3557\n",
       "Name: Plate_Type, dtype: int64"
      ]
     },
     "execution_count": 32,
     "metadata": {},
     "output_type": "execute_result"
    }
   ],
   "source": [
    "# how many types \n",
    "nyc_drop['Plate_Type'].value_counts()"
   ]
  },
  {
   "cell_type": "code",
   "execution_count": 33,
   "id": "28c0fc33",
   "metadata": {},
   "outputs": [
    {
     "data": {
      "text/plain": [
       "36.0    87992\n",
       "38.0    70205\n",
       "14.0    36317\n",
       "7.0     26928\n",
       "Name: Violation_Code, dtype: int64"
      ]
     },
     "execution_count": 33,
     "metadata": {},
     "output_type": "execute_result"
    }
   ],
   "source": [
    "nyc_drop['Violation_Code'].value_counts()"
   ]
  },
  {
   "cell_type": "code",
   "execution_count": 34,
   "id": "c6793530",
   "metadata": {},
   "outputs": [
    {
     "data": {
      "text/plain": [
       "SUBN    112231\n",
       "4DSD     93122\n",
       "2DSD      8093\n",
       "PICK      7996\n",
       "Name: Vehicle_Body_Type, dtype: int64"
      ]
     },
     "execution_count": 34,
     "metadata": {},
     "output_type": "execute_result"
    }
   ],
   "source": [
    "nyc_drop['Vehicle_Body_Type'].value_counts()"
   ]
  },
  {
   "cell_type": "code",
   "execution_count": 35,
   "id": "17691a93",
   "metadata": {},
   "outputs": [
    {
     "data": {
      "text/plain": [
       "BK    46834\n",
       "QN    42309\n",
       "K     32705\n",
       "NY    30137\n",
       "Q     28912\n",
       "BX    26607\n",
       "ST     9299\n",
       "MN     2529\n",
       "R      2110\n",
       "Name: Violation_County, dtype: int64"
      ]
     },
     "execution_count": 35,
     "metadata": {},
     "output_type": "execute_result"
    }
   ],
   "source": [
    "nyc_drop['Violation_County'].value_counts()"
   ]
  },
  {
   "cell_type": "code",
   "execution_count": 36,
   "id": "03200756",
   "metadata": {},
   "outputs": [
    {
     "data": {
      "text/plain": [
       "GY       63185\n",
       "BK       48003\n",
       "WH       33723\n",
       "BL       19751\n",
       "RD       12127\n",
       "BLACK    10986\n",
       "WHITE     7786\n",
       "GREY      7076\n",
       "GR        6051\n",
       "SILVE     5040\n",
       "BLUE      3336\n",
       "RED       2779\n",
       "GREEN      814\n",
       "BROWN      312\n",
       "YW         209\n",
       "YELLO       89\n",
       "PURPL       88\n",
       "ORANG       87\n",
       "Name: Vehicle_Color, dtype: int64"
      ]
     },
     "execution_count": 36,
     "metadata": {},
     "output_type": "execute_result"
    }
   ],
   "source": [
    "nyc_drop['Vehicle_Color'].value_counts().head(50)\n",
    "\n",
    "## Colors kept:\n",
    "#WH, WHITE, GY, GREY, BK, BLACK, BL,BROWN, SILVE, BLUE, RED, RD, GR, GREEN,YW, YELLO, ORANG, PURPL\n"
   ]
  },
  {
   "cell_type": "code",
   "execution_count": 37,
   "id": "03dec97f",
   "metadata": {},
   "outputs": [
    {
     "data": {
      "text/plain": [
       "0       18106\n",
       "2015    16535\n",
       "2016    16229\n",
       "0       12756\n",
       "2015    11512\n",
       "2016    11073\n",
       "2014    10169\n",
       "2013     7819\n",
       "2014     6862\n",
       "2012     6171\n",
       "2011     5501\n",
       "2008     5328\n",
       "2013     5297\n",
       "2007     5189\n",
       "2010     5010\n",
       "2005     4722\n",
       "2006     4716\n",
       "2017     4435\n",
       "2012     4325\n",
       "2004     4321\n",
       "2009     4281\n",
       "2007     3725\n",
       "2008     3698\n",
       "2011     3697\n",
       "2003     3664\n",
       "2006     3349\n",
       "2010     3340\n",
       "2005     3123\n",
       "2017     3024\n",
       "2009     2952\n",
       "2004     2859\n",
       "2002     2840\n",
       "2003     2627\n",
       "2001     2173\n",
       "2002     2061\n",
       "2001     1474\n",
       "1999     1173\n",
       "1998      868\n",
       "1999      845\n",
       "1997      649\n",
       "1998      580\n",
       "1997      433\n",
       "1996      313\n",
       "1995      243\n",
       "1996      219\n",
       "1995      189\n",
       "1994      164\n",
       "1993      128\n",
       "1994      104\n",
       "1993       90\n",
       "Name: Vehicle_Year, dtype: int64"
      ]
     },
     "execution_count": 37,
     "metadata": {},
     "output_type": "execute_result"
    }
   ],
   "source": [
    "nyc_drop['Vehicle_Year'].value_counts().head(50)"
   ]
  },
  {
   "cell_type": "code",
   "execution_count": null,
   "id": "197b9f81",
   "metadata": {},
   "outputs": [],
   "source": []
  },
  {
   "cell_type": "code",
   "execution_count": null,
   "id": "e54904af",
   "metadata": {},
   "outputs": [],
   "source": []
  }
 ],
 "metadata": {
  "kernelspec": {
   "display_name": "mlenv",
   "language": "python",
   "name": "mlenv"
  },
  "language_info": {
   "codemirror_mode": {
    "name": "ipython",
    "version": 3
   },
   "file_extension": ".py",
   "mimetype": "text/x-python",
   "name": "python",
   "nbconvert_exporter": "python",
   "pygments_lexer": "ipython3",
   "version": "3.7.13"
  }
 },
 "nbformat": 4,
 "nbformat_minor": 5
}

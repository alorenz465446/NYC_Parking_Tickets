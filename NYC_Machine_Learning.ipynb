{
  "cells": [
    {
      "cell_type": "markdown",
      "metadata": {
        "id": "view-in-github",
        "colab_type": "text"
      },
      "source": [
        "<a href=\"https://colab.research.google.com/github/alorenz465446/NYC_Parking_Tickets/blob/Beatriz_Marte/NYC_Machine_Learning.ipynb\" target=\"_parent\"><img src=\"https://colab.research.google.com/assets/colab-badge.svg\" alt=\"Open In Colab\"/></a>"
      ]
    },
    {
      "cell_type": "code",
      "execution_count": null,
      "metadata": {
        "id": "aerN7Ljq2Rhz"
      },
      "outputs": [],
      "source": [
        "# import dependencies\n",
        "import pandas as pd"
      ]
    },
    {
      "cell_type": "code",
      "execution_count": null,
      "metadata": {
        "colab": {
          "base_uri": "https://localhost:8080/",
          "height": 79
        },
        "id": "lz623pdY4b8W",
        "outputId": "55d60b68-0c1a-403c-d5a5-59ed04817466"
      },
      "outputs": [
        {
          "output_type": "display_data",
          "data": {
            "text/plain": [
              "<IPython.core.display.HTML object>"
            ],
            "text/html": [
              "\n",
              "     <input type=\"file\" id=\"files-dbe2c5bf-115f-453a-9fbe-3db2e6e21191\" name=\"files[]\" multiple disabled\n",
              "        style=\"border:none\" />\n",
              "     <output id=\"result-dbe2c5bf-115f-453a-9fbe-3db2e6e21191\">\n",
              "      Upload widget is only available when the cell has been executed in the\n",
              "      current browser session. Please rerun this cell to enable.\n",
              "      </output>\n",
              "      <script>// Copyright 2017 Google LLC\n",
              "//\n",
              "// Licensed under the Apache License, Version 2.0 (the \"License\");\n",
              "// you may not use this file except in compliance with the License.\n",
              "// You may obtain a copy of the License at\n",
              "//\n",
              "//      http://www.apache.org/licenses/LICENSE-2.0\n",
              "//\n",
              "// Unless required by applicable law or agreed to in writing, software\n",
              "// distributed under the License is distributed on an \"AS IS\" BASIS,\n",
              "// WITHOUT WARRANTIES OR CONDITIONS OF ANY KIND, either express or implied.\n",
              "// See the License for the specific language governing permissions and\n",
              "// limitations under the License.\n",
              "\n",
              "/**\n",
              " * @fileoverview Helpers for google.colab Python module.\n",
              " */\n",
              "(function(scope) {\n",
              "function span(text, styleAttributes = {}) {\n",
              "  const element = document.createElement('span');\n",
              "  element.textContent = text;\n",
              "  for (const key of Object.keys(styleAttributes)) {\n",
              "    element.style[key] = styleAttributes[key];\n",
              "  }\n",
              "  return element;\n",
              "}\n",
              "\n",
              "// Max number of bytes which will be uploaded at a time.\n",
              "const MAX_PAYLOAD_SIZE = 100 * 1024;\n",
              "\n",
              "function _uploadFiles(inputId, outputId) {\n",
              "  const steps = uploadFilesStep(inputId, outputId);\n",
              "  const outputElement = document.getElementById(outputId);\n",
              "  // Cache steps on the outputElement to make it available for the next call\n",
              "  // to uploadFilesContinue from Python.\n",
              "  outputElement.steps = steps;\n",
              "\n",
              "  return _uploadFilesContinue(outputId);\n",
              "}\n",
              "\n",
              "// This is roughly an async generator (not supported in the browser yet),\n",
              "// where there are multiple asynchronous steps and the Python side is going\n",
              "// to poll for completion of each step.\n",
              "// This uses a Promise to block the python side on completion of each step,\n",
              "// then passes the result of the previous step as the input to the next step.\n",
              "function _uploadFilesContinue(outputId) {\n",
              "  const outputElement = document.getElementById(outputId);\n",
              "  const steps = outputElement.steps;\n",
              "\n",
              "  const next = steps.next(outputElement.lastPromiseValue);\n",
              "  return Promise.resolve(next.value.promise).then((value) => {\n",
              "    // Cache the last promise value to make it available to the next\n",
              "    // step of the generator.\n",
              "    outputElement.lastPromiseValue = value;\n",
              "    return next.value.response;\n",
              "  });\n",
              "}\n",
              "\n",
              "/**\n",
              " * Generator function which is called between each async step of the upload\n",
              " * process.\n",
              " * @param {string} inputId Element ID of the input file picker element.\n",
              " * @param {string} outputId Element ID of the output display.\n",
              " * @return {!Iterable<!Object>} Iterable of next steps.\n",
              " */\n",
              "function* uploadFilesStep(inputId, outputId) {\n",
              "  const inputElement = document.getElementById(inputId);\n",
              "  inputElement.disabled = false;\n",
              "\n",
              "  const outputElement = document.getElementById(outputId);\n",
              "  outputElement.innerHTML = '';\n",
              "\n",
              "  const pickedPromise = new Promise((resolve) => {\n",
              "    inputElement.addEventListener('change', (e) => {\n",
              "      resolve(e.target.files);\n",
              "    });\n",
              "  });\n",
              "\n",
              "  const cancel = document.createElement('button');\n",
              "  inputElement.parentElement.appendChild(cancel);\n",
              "  cancel.textContent = 'Cancel upload';\n",
              "  const cancelPromise = new Promise((resolve) => {\n",
              "    cancel.onclick = () => {\n",
              "      resolve(null);\n",
              "    };\n",
              "  });\n",
              "\n",
              "  // Wait for the user to pick the files.\n",
              "  const files = yield {\n",
              "    promise: Promise.race([pickedPromise, cancelPromise]),\n",
              "    response: {\n",
              "      action: 'starting',\n",
              "    }\n",
              "  };\n",
              "\n",
              "  cancel.remove();\n",
              "\n",
              "  // Disable the input element since further picks are not allowed.\n",
              "  inputElement.disabled = true;\n",
              "\n",
              "  if (!files) {\n",
              "    return {\n",
              "      response: {\n",
              "        action: 'complete',\n",
              "      }\n",
              "    };\n",
              "  }\n",
              "\n",
              "  for (const file of files) {\n",
              "    const li = document.createElement('li');\n",
              "    li.append(span(file.name, {fontWeight: 'bold'}));\n",
              "    li.append(span(\n",
              "        `(${file.type || 'n/a'}) - ${file.size} bytes, ` +\n",
              "        `last modified: ${\n",
              "            file.lastModifiedDate ? file.lastModifiedDate.toLocaleDateString() :\n",
              "                                    'n/a'} - `));\n",
              "    const percent = span('0% done');\n",
              "    li.appendChild(percent);\n",
              "\n",
              "    outputElement.appendChild(li);\n",
              "\n",
              "    const fileDataPromise = new Promise((resolve) => {\n",
              "      const reader = new FileReader();\n",
              "      reader.onload = (e) => {\n",
              "        resolve(e.target.result);\n",
              "      };\n",
              "      reader.readAsArrayBuffer(file);\n",
              "    });\n",
              "    // Wait for the data to be ready.\n",
              "    let fileData = yield {\n",
              "      promise: fileDataPromise,\n",
              "      response: {\n",
              "        action: 'continue',\n",
              "      }\n",
              "    };\n",
              "\n",
              "    // Use a chunked sending to avoid message size limits. See b/62115660.\n",
              "    let position = 0;\n",
              "    do {\n",
              "      const length = Math.min(fileData.byteLength - position, MAX_PAYLOAD_SIZE);\n",
              "      const chunk = new Uint8Array(fileData, position, length);\n",
              "      position += length;\n",
              "\n",
              "      const base64 = btoa(String.fromCharCode.apply(null, chunk));\n",
              "      yield {\n",
              "        response: {\n",
              "          action: 'append',\n",
              "          file: file.name,\n",
              "          data: base64,\n",
              "        },\n",
              "      };\n",
              "\n",
              "      let percentDone = fileData.byteLength === 0 ?\n",
              "          100 :\n",
              "          Math.round((position / fileData.byteLength) * 100);\n",
              "      percent.textContent = `${percentDone}% done`;\n",
              "\n",
              "    } while (position < fileData.byteLength);\n",
              "  }\n",
              "\n",
              "  // All done.\n",
              "  yield {\n",
              "    response: {\n",
              "      action: 'complete',\n",
              "    }\n",
              "  };\n",
              "}\n",
              "\n",
              "scope.google = scope.google || {};\n",
              "scope.google.colab = scope.google.colab || {};\n",
              "scope.google.colab._files = {\n",
              "  _uploadFiles,\n",
              "  _uploadFilesContinue,\n",
              "};\n",
              "})(self);\n",
              "</script> "
            ]
          },
          "metadata": {}
        },
        {
          "output_type": "stream",
          "name": "stdout",
          "text": [
            "Saving NYC_Tickets_2017.csv to NYC_Tickets_2017 (1).csv\n"
          ]
        }
      ],
      "source": [
        "from google.colab import files\n",
        "data_to_load = files.upload()"
      ]
    },
    {
      "cell_type": "code",
      "execution_count": null,
      "metadata": {
        "colab": {
          "base_uri": "https://localhost:8080/",
          "height": 641
        },
        "id": "9fyRJ32b4kls",
        "outputId": "795ec480-f5b2-44ec-d0c8-1a6ec2d28dee"
      },
      "outputs": [
        {
          "output_type": "execute_result",
          "data": {
            "text/plain": [
              "        Plate Type  Issue Date  Violation Code Vehicle Body Type Vehicle Make  \\\n",
              "0              PAS   7/10/2016               7              SUBN        TOYOT   \n",
              "1              PAS    7/8/2016               7              SUBN        TOYOT   \n",
              "2              PAS   8/23/2016               5              SUBN         FORD   \n",
              "3              COM   6/14/2017              47              REFG        MITSU   \n",
              "4              COM  11/21/2016              69              DELV        INTER   \n",
              "...            ...         ...             ...               ...          ...   \n",
              "1048570        PAS    6/9/2017              36              4DSD        CHEVR   \n",
              "1048571        PAS  12/11/2016              71              4DSD        NISSA   \n",
              "1048572        PAS   4/13/2017              38              4DSD        HONDA   \n",
              "1048573        PAS    4/4/2017              21              SUBN        VOLVO   \n",
              "1048574        PAS   2/24/2017              50              4DSD        HONDA   \n",
              "\n",
              "        Issuing Agency  Violation Location  Violation Precinct  \\\n",
              "0                    V                 NaN                   0   \n",
              "1                    V                 NaN                   0   \n",
              "2                    V                 NaN                   0   \n",
              "3                    T                14.0                  14   \n",
              "4                    T                13.0                  13   \n",
              "...                ...                 ...                 ...   \n",
              "1048570              V                 NaN                   0   \n",
              "1048571              T                81.0                  81   \n",
              "1048572              T                60.0                  60   \n",
              "1048573              T                83.0                  83   \n",
              "1048574              T               112.0                 112   \n",
              "\n",
              "         Issuer Precinct  Issuer Code Issuer Command Violation Time  \\\n",
              "0                      0            0            NaN          0143A   \n",
              "1                      0            0            NaN          0400P   \n",
              "2                      0            0            NaN          0233P   \n",
              "3                     14       359594           T102          1120A   \n",
              "4                     13       364832           T102          0555P   \n",
              "...                  ...          ...            ...            ...   \n",
              "1048570                0            0            NaN          0200P   \n",
              "1048571               81       357358           T301          1001A   \n",
              "1048572               60       362530           T302          0202P   \n",
              "1048573               83       364015           T301          0907A   \n",
              "1048574              112       363063           T402          0458P   \n",
              "\n",
              "        Violation County           Street Name  Law Section Sub Division  \\\n",
              "0                     BX  ALLERTON AVE (W/B) @         1111            D   \n",
              "1                     BX  ALLERTON AVE (W/B) @         1111            D   \n",
              "2                     BX  SB WEBSTER AVE @ E 1         1111            C   \n",
              "3                     NY               7th Ave          408           l2   \n",
              "4                     NY               6th Ave          408           h1   \n",
              "...                  ...                   ...          ...          ...   \n",
              "1048570               QN  WB HILLSIDE AVE @ 23         1180            B   \n",
              "1048571                K            Putnam Ave          408           j6   \n",
              "1048572                K      Coney Island Ave          408           h1   \n",
              "1048573                K            Putnam Ave          408           d1   \n",
              "1048574                Q              102nd St          408           e5   \n",
              "\n",
              "        Vehicle Color  Vehicle Year           Violation Description  \n",
              "0                  GY          2001    FAILURE TO STOP AT RED LIGHT  \n",
              "1                  GY          2001    FAILURE TO STOP AT RED LIGHT  \n",
              "2                  BK          2004              BUS LANE VIOLATION  \n",
              "3                  WH          2007           47-Double PKG-Midtown  \n",
              "4               WHITE          2007   69-Failure to Disp Muni Recpt  \n",
              "...               ...           ...                             ...  \n",
              "1048570            RD          2003  PHTO SCHOOL ZN SPEED VIOLATION  \n",
              "1048571            GY          2007  71A-Insp Sticker Expired (NYS)  \n",
              "1048572            BL          2015  38-Failure to Display Muni Rec  \n",
              "1048573            GY          2004    21-No Parking (street clean)  \n",
              "1048574          BLUE             0                    50-Crosswalk  \n",
              "\n",
              "[1048575 rows x 19 columns]"
            ],
            "text/html": [
              "\n",
              "  <div id=\"df-f9410a20-82a0-40d6-8f74-e4d78678cf5f\">\n",
              "    <div class=\"colab-df-container\">\n",
              "      <div>\n",
              "<style scoped>\n",
              "    .dataframe tbody tr th:only-of-type {\n",
              "        vertical-align: middle;\n",
              "    }\n",
              "\n",
              "    .dataframe tbody tr th {\n",
              "        vertical-align: top;\n",
              "    }\n",
              "\n",
              "    .dataframe thead th {\n",
              "        text-align: right;\n",
              "    }\n",
              "</style>\n",
              "<table border=\"1\" class=\"dataframe\">\n",
              "  <thead>\n",
              "    <tr style=\"text-align: right;\">\n",
              "      <th></th>\n",
              "      <th>Plate Type</th>\n",
              "      <th>Issue Date</th>\n",
              "      <th>Violation Code</th>\n",
              "      <th>Vehicle Body Type</th>\n",
              "      <th>Vehicle Make</th>\n",
              "      <th>Issuing Agency</th>\n",
              "      <th>Violation Location</th>\n",
              "      <th>Violation Precinct</th>\n",
              "      <th>Issuer Precinct</th>\n",
              "      <th>Issuer Code</th>\n",
              "      <th>Issuer Command</th>\n",
              "      <th>Violation Time</th>\n",
              "      <th>Violation County</th>\n",
              "      <th>Street Name</th>\n",
              "      <th>Law Section</th>\n",
              "      <th>Sub Division</th>\n",
              "      <th>Vehicle Color</th>\n",
              "      <th>Vehicle Year</th>\n",
              "      <th>Violation Description</th>\n",
              "    </tr>\n",
              "  </thead>\n",
              "  <tbody>\n",
              "    <tr>\n",
              "      <th>0</th>\n",
              "      <td>PAS</td>\n",
              "      <td>7/10/2016</td>\n",
              "      <td>7</td>\n",
              "      <td>SUBN</td>\n",
              "      <td>TOYOT</td>\n",
              "      <td>V</td>\n",
              "      <td>NaN</td>\n",
              "      <td>0</td>\n",
              "      <td>0</td>\n",
              "      <td>0</td>\n",
              "      <td>NaN</td>\n",
              "      <td>0143A</td>\n",
              "      <td>BX</td>\n",
              "      <td>ALLERTON AVE (W/B) @</td>\n",
              "      <td>1111</td>\n",
              "      <td>D</td>\n",
              "      <td>GY</td>\n",
              "      <td>2001</td>\n",
              "      <td>FAILURE TO STOP AT RED LIGHT</td>\n",
              "    </tr>\n",
              "    <tr>\n",
              "      <th>1</th>\n",
              "      <td>PAS</td>\n",
              "      <td>7/8/2016</td>\n",
              "      <td>7</td>\n",
              "      <td>SUBN</td>\n",
              "      <td>TOYOT</td>\n",
              "      <td>V</td>\n",
              "      <td>NaN</td>\n",
              "      <td>0</td>\n",
              "      <td>0</td>\n",
              "      <td>0</td>\n",
              "      <td>NaN</td>\n",
              "      <td>0400P</td>\n",
              "      <td>BX</td>\n",
              "      <td>ALLERTON AVE (W/B) @</td>\n",
              "      <td>1111</td>\n",
              "      <td>D</td>\n",
              "      <td>GY</td>\n",
              "      <td>2001</td>\n",
              "      <td>FAILURE TO STOP AT RED LIGHT</td>\n",
              "    </tr>\n",
              "    <tr>\n",
              "      <th>2</th>\n",
              "      <td>PAS</td>\n",
              "      <td>8/23/2016</td>\n",
              "      <td>5</td>\n",
              "      <td>SUBN</td>\n",
              "      <td>FORD</td>\n",
              "      <td>V</td>\n",
              "      <td>NaN</td>\n",
              "      <td>0</td>\n",
              "      <td>0</td>\n",
              "      <td>0</td>\n",
              "      <td>NaN</td>\n",
              "      <td>0233P</td>\n",
              "      <td>BX</td>\n",
              "      <td>SB WEBSTER AVE @ E 1</td>\n",
              "      <td>1111</td>\n",
              "      <td>C</td>\n",
              "      <td>BK</td>\n",
              "      <td>2004</td>\n",
              "      <td>BUS LANE VIOLATION</td>\n",
              "    </tr>\n",
              "    <tr>\n",
              "      <th>3</th>\n",
              "      <td>COM</td>\n",
              "      <td>6/14/2017</td>\n",
              "      <td>47</td>\n",
              "      <td>REFG</td>\n",
              "      <td>MITSU</td>\n",
              "      <td>T</td>\n",
              "      <td>14.0</td>\n",
              "      <td>14</td>\n",
              "      <td>14</td>\n",
              "      <td>359594</td>\n",
              "      <td>T102</td>\n",
              "      <td>1120A</td>\n",
              "      <td>NY</td>\n",
              "      <td>7th Ave</td>\n",
              "      <td>408</td>\n",
              "      <td>l2</td>\n",
              "      <td>WH</td>\n",
              "      <td>2007</td>\n",
              "      <td>47-Double PKG-Midtown</td>\n",
              "    </tr>\n",
              "    <tr>\n",
              "      <th>4</th>\n",
              "      <td>COM</td>\n",
              "      <td>11/21/2016</td>\n",
              "      <td>69</td>\n",
              "      <td>DELV</td>\n",
              "      <td>INTER</td>\n",
              "      <td>T</td>\n",
              "      <td>13.0</td>\n",
              "      <td>13</td>\n",
              "      <td>13</td>\n",
              "      <td>364832</td>\n",
              "      <td>T102</td>\n",
              "      <td>0555P</td>\n",
              "      <td>NY</td>\n",
              "      <td>6th Ave</td>\n",
              "      <td>408</td>\n",
              "      <td>h1</td>\n",
              "      <td>WHITE</td>\n",
              "      <td>2007</td>\n",
              "      <td>69-Failure to Disp Muni Recpt</td>\n",
              "    </tr>\n",
              "    <tr>\n",
              "      <th>...</th>\n",
              "      <td>...</td>\n",
              "      <td>...</td>\n",
              "      <td>...</td>\n",
              "      <td>...</td>\n",
              "      <td>...</td>\n",
              "      <td>...</td>\n",
              "      <td>...</td>\n",
              "      <td>...</td>\n",
              "      <td>...</td>\n",
              "      <td>...</td>\n",
              "      <td>...</td>\n",
              "      <td>...</td>\n",
              "      <td>...</td>\n",
              "      <td>...</td>\n",
              "      <td>...</td>\n",
              "      <td>...</td>\n",
              "      <td>...</td>\n",
              "      <td>...</td>\n",
              "      <td>...</td>\n",
              "    </tr>\n",
              "    <tr>\n",
              "      <th>1048570</th>\n",
              "      <td>PAS</td>\n",
              "      <td>6/9/2017</td>\n",
              "      <td>36</td>\n",
              "      <td>4DSD</td>\n",
              "      <td>CHEVR</td>\n",
              "      <td>V</td>\n",
              "      <td>NaN</td>\n",
              "      <td>0</td>\n",
              "      <td>0</td>\n",
              "      <td>0</td>\n",
              "      <td>NaN</td>\n",
              "      <td>0200P</td>\n",
              "      <td>QN</td>\n",
              "      <td>WB HILLSIDE AVE @ 23</td>\n",
              "      <td>1180</td>\n",
              "      <td>B</td>\n",
              "      <td>RD</td>\n",
              "      <td>2003</td>\n",
              "      <td>PHTO SCHOOL ZN SPEED VIOLATION</td>\n",
              "    </tr>\n",
              "    <tr>\n",
              "      <th>1048571</th>\n",
              "      <td>PAS</td>\n",
              "      <td>12/11/2016</td>\n",
              "      <td>71</td>\n",
              "      <td>4DSD</td>\n",
              "      <td>NISSA</td>\n",
              "      <td>T</td>\n",
              "      <td>81.0</td>\n",
              "      <td>81</td>\n",
              "      <td>81</td>\n",
              "      <td>357358</td>\n",
              "      <td>T301</td>\n",
              "      <td>1001A</td>\n",
              "      <td>K</td>\n",
              "      <td>Putnam Ave</td>\n",
              "      <td>408</td>\n",
              "      <td>j6</td>\n",
              "      <td>GY</td>\n",
              "      <td>2007</td>\n",
              "      <td>71A-Insp Sticker Expired (NYS)</td>\n",
              "    </tr>\n",
              "    <tr>\n",
              "      <th>1048572</th>\n",
              "      <td>PAS</td>\n",
              "      <td>4/13/2017</td>\n",
              "      <td>38</td>\n",
              "      <td>4DSD</td>\n",
              "      <td>HONDA</td>\n",
              "      <td>T</td>\n",
              "      <td>60.0</td>\n",
              "      <td>60</td>\n",
              "      <td>60</td>\n",
              "      <td>362530</td>\n",
              "      <td>T302</td>\n",
              "      <td>0202P</td>\n",
              "      <td>K</td>\n",
              "      <td>Coney Island Ave</td>\n",
              "      <td>408</td>\n",
              "      <td>h1</td>\n",
              "      <td>BL</td>\n",
              "      <td>2015</td>\n",
              "      <td>38-Failure to Display Muni Rec</td>\n",
              "    </tr>\n",
              "    <tr>\n",
              "      <th>1048573</th>\n",
              "      <td>PAS</td>\n",
              "      <td>4/4/2017</td>\n",
              "      <td>21</td>\n",
              "      <td>SUBN</td>\n",
              "      <td>VOLVO</td>\n",
              "      <td>T</td>\n",
              "      <td>83.0</td>\n",
              "      <td>83</td>\n",
              "      <td>83</td>\n",
              "      <td>364015</td>\n",
              "      <td>T301</td>\n",
              "      <td>0907A</td>\n",
              "      <td>K</td>\n",
              "      <td>Putnam Ave</td>\n",
              "      <td>408</td>\n",
              "      <td>d1</td>\n",
              "      <td>GY</td>\n",
              "      <td>2004</td>\n",
              "      <td>21-No Parking (street clean)</td>\n",
              "    </tr>\n",
              "    <tr>\n",
              "      <th>1048574</th>\n",
              "      <td>PAS</td>\n",
              "      <td>2/24/2017</td>\n",
              "      <td>50</td>\n",
              "      <td>4DSD</td>\n",
              "      <td>HONDA</td>\n",
              "      <td>T</td>\n",
              "      <td>112.0</td>\n",
              "      <td>112</td>\n",
              "      <td>112</td>\n",
              "      <td>363063</td>\n",
              "      <td>T402</td>\n",
              "      <td>0458P</td>\n",
              "      <td>Q</td>\n",
              "      <td>102nd St</td>\n",
              "      <td>408</td>\n",
              "      <td>e5</td>\n",
              "      <td>BLUE</td>\n",
              "      <td>0</td>\n",
              "      <td>50-Crosswalk</td>\n",
              "    </tr>\n",
              "  </tbody>\n",
              "</table>\n",
              "<p>1048575 rows × 19 columns</p>\n",
              "</div>\n",
              "      <button class=\"colab-df-convert\" onclick=\"convertToInteractive('df-f9410a20-82a0-40d6-8f74-e4d78678cf5f')\"\n",
              "              title=\"Convert this dataframe to an interactive table.\"\n",
              "              style=\"display:none;\">\n",
              "        \n",
              "  <svg xmlns=\"http://www.w3.org/2000/svg\" height=\"24px\"viewBox=\"0 0 24 24\"\n",
              "       width=\"24px\">\n",
              "    <path d=\"M0 0h24v24H0V0z\" fill=\"none\"/>\n",
              "    <path d=\"M18.56 5.44l.94 2.06.94-2.06 2.06-.94-2.06-.94-.94-2.06-.94 2.06-2.06.94zm-11 1L8.5 8.5l.94-2.06 2.06-.94-2.06-.94L8.5 2.5l-.94 2.06-2.06.94zm10 10l.94 2.06.94-2.06 2.06-.94-2.06-.94-.94-2.06-.94 2.06-2.06.94z\"/><path d=\"M17.41 7.96l-1.37-1.37c-.4-.4-.92-.59-1.43-.59-.52 0-1.04.2-1.43.59L10.3 9.45l-7.72 7.72c-.78.78-.78 2.05 0 2.83L4 21.41c.39.39.9.59 1.41.59.51 0 1.02-.2 1.41-.59l7.78-7.78 2.81-2.81c.8-.78.8-2.07 0-2.86zM5.41 20L4 18.59l7.72-7.72 1.47 1.35L5.41 20z\"/>\n",
              "  </svg>\n",
              "      </button>\n",
              "      \n",
              "  <style>\n",
              "    .colab-df-container {\n",
              "      display:flex;\n",
              "      flex-wrap:wrap;\n",
              "      gap: 12px;\n",
              "    }\n",
              "\n",
              "    .colab-df-convert {\n",
              "      background-color: #E8F0FE;\n",
              "      border: none;\n",
              "      border-radius: 50%;\n",
              "      cursor: pointer;\n",
              "      display: none;\n",
              "      fill: #1967D2;\n",
              "      height: 32px;\n",
              "      padding: 0 0 0 0;\n",
              "      width: 32px;\n",
              "    }\n",
              "\n",
              "    .colab-df-convert:hover {\n",
              "      background-color: #E2EBFA;\n",
              "      box-shadow: 0px 1px 2px rgba(60, 64, 67, 0.3), 0px 1px 3px 1px rgba(60, 64, 67, 0.15);\n",
              "      fill: #174EA6;\n",
              "    }\n",
              "\n",
              "    [theme=dark] .colab-df-convert {\n",
              "      background-color: #3B4455;\n",
              "      fill: #D2E3FC;\n",
              "    }\n",
              "\n",
              "    [theme=dark] .colab-df-convert:hover {\n",
              "      background-color: #434B5C;\n",
              "      box-shadow: 0px 1px 3px 1px rgba(0, 0, 0, 0.15);\n",
              "      filter: drop-shadow(0px 1px 2px rgba(0, 0, 0, 0.3));\n",
              "      fill: #FFFFFF;\n",
              "    }\n",
              "  </style>\n",
              "\n",
              "      <script>\n",
              "        const buttonEl =\n",
              "          document.querySelector('#df-f9410a20-82a0-40d6-8f74-e4d78678cf5f button.colab-df-convert');\n",
              "        buttonEl.style.display =\n",
              "          google.colab.kernel.accessAllowed ? 'block' : 'none';\n",
              "\n",
              "        async function convertToInteractive(key) {\n",
              "          const element = document.querySelector('#df-f9410a20-82a0-40d6-8f74-e4d78678cf5f');\n",
              "          const dataTable =\n",
              "            await google.colab.kernel.invokeFunction('convertToInteractive',\n",
              "                                                     [key], {});\n",
              "          if (!dataTable) return;\n",
              "\n",
              "          const docLinkHtml = 'Like what you see? Visit the ' +\n",
              "            '<a target=\"_blank\" href=https://colab.research.google.com/notebooks/data_table.ipynb>data table notebook</a>'\n",
              "            + ' to learn more about interactive tables.';\n",
              "          element.innerHTML = '';\n",
              "          dataTable['output_type'] = 'display_data';\n",
              "          await google.colab.output.renderOutput(dataTable, element);\n",
              "          const docLink = document.createElement('div');\n",
              "          docLink.innerHTML = docLinkHtml;\n",
              "          element.appendChild(docLink);\n",
              "        }\n",
              "      </script>\n",
              "    </div>\n",
              "  </div>\n",
              "  "
            ]
          },
          "metadata": {},
          "execution_count": 6
        }
      ],
      "source": [
        "nyc_df = pd.read_csv(\"NYC_Tickets_2017.csv\", low_memory=False)\n",
        "nyc_df "
      ]
    },
    {
      "cell_type": "markdown",
      "source": [
        "# Encode Categorical Data \n",
        "Use one One_Hot_Encoder "
      ],
      "metadata": {
        "id": "tUhNOgKtgFHg"
      }
    },
    {
      "cell_type": "code",
      "source": [
        "# Generate our categorical variable list\n",
        "df_categorical = nyc_df.dtypes[nyc_df.dtypes == \"object\"].index.tolist()\n"
      ],
      "metadata": {
        "id": "oWBXrttSzUxn"
      },
      "execution_count": null,
      "outputs": []
    },
    {
      "cell_type": "code",
      "source": [
        "# Create the OneHotEncoder instance\n",
        "from sklearn.preprocessing import OneHotEncoder\n",
        "enc = OneHotEncoder(sparse=False)\n",
        "\n",
        "# Fit and transform the OneHotEncoder using the categorical variable list\n",
        "encode_df = pd.DataFrame(enc.fit_transform(df[df_categorical]))\n",
        "\n",
        "# Add the encoded variable names to the DataFrame\n",
        "encode_df.columns = enc.get_feature_names(df_categorical)\n",
        "encode_df.head()\n"
      ],
      "metadata": {
        "id": "TvoO4B47yJCo"
      },
      "execution_count": null,
      "outputs": []
    },
    {
      "cell_type": "markdown",
      "source": [
        "Consider Binning. \n",
        "\n",
        "Sample code below: \n",
        "\n",
        "```\n",
        "\n",
        "# Look at INCOME_AMT value counts for binning\n",
        "INCOME_AMT_count=application_df['INCOME_AMT'].value_counts()\n",
        "\n",
        "# Visualize the value counts of INCOME_AMT\n",
        "INCOME_AMT_count.plot.density()\n",
        "\n",
        "---\n",
        "\n",
        "# Determine which values to replace if counts are less than ...?\n",
        "replace_INCOME_AMT = list(INCOME_AMT_count[INCOME_AMT_count < 500].index)\n",
        "\n",
        "\n",
        "# Replace in dataframe\n",
        "for app in replace_INCOME_AMT:\n",
        "    application_df.INCOME_AMT = application_df.INCOME_AMT.replace(app,\"5M+\")\n",
        "    \n",
        "# Check to make sure binning was successful\n",
        "application_df.INCOME_AMT.value_counts()\n",
        "```"
      ],
      "metadata": {
        "id": "FCtqTKNizlN7"
      }
    },
    {
      "cell_type": "markdown",
      "source": [
        "# Start with a Random Forest model to check for correlations. \n",
        "\n",
        "Note:\n",
        "(used homework 17.8.2-3, named random_forest_model in JN)\n",
        "- BM"
      ],
      "metadata": {
        "id": "Dh7quRz7a7QF"
      }
    },
    {
      "cell_type": "code",
      "execution_count": 1,
      "metadata": {
        "id": "gXmGxUJI7VVg"
      },
      "outputs": [],
      "source": [
        "from sklearn.ensemble import RandomForestClassifier\n",
        "from sklearn.preprocessing import StandardScaler\n",
        "from sklearn.model_selection import train_test_split\n",
        "from sklearn.metrics import confusion_matrix, accuracy_score, classification_report\n"
      ]
    },
    {
      "cell_type": "markdown",
      "source": [
        "### Preprocess the Data\n"
      ],
      "metadata": {
        "id": "rLDtWzYtbOma"
      }
    },
    {
      "cell_type": "code",
      "source": [
        "# Define the features set.\n",
        "X = nyc_df.copy()\n",
        "X = X.drop(['Violation Code', 'Violation Description'], axis=1)\n",
        "X.head()\n"
      ],
      "metadata": {
        "id": "lrOgCVEja42F"
      },
      "execution_count": null,
      "outputs": []
    },
    {
      "cell_type": "code",
      "source": [
        "# Define the target set.\n",
        "y = df_loans[\"Violation Code\"].ravel()\n",
        "y[:5]\n"
      ],
      "metadata": {
        "id": "YibOGey_a44b"
      },
      "execution_count": null,
      "outputs": []
    },
    {
      "cell_type": "code",
      "source": [
        "# Split data into Train and Test sets.\n",
        "X_train, X_test, y_train, y_test = train_test_split(X, y, random_state=78)\n"
      ],
      "metadata": {
        "id": "Bw0HO3URa46v"
      },
      "execution_count": null,
      "outputs": []
    },
    {
      "cell_type": "code",
      "source": [
        "# Creating a StandardScaler instance.\n",
        "scaler = StandardScaler()\n",
        "# Fitting the Standard Scaler with the training data.\n",
        "X_scaler = scaler.fit(X_train)\n",
        "\n",
        "# Scaling the data.\n",
        "X_train_scaled = X_scaler.transform(X_train)\n",
        "X_test_scaled = X_scaler.transform(X_test)\n"
      ],
      "metadata": {
        "id": "vosDyjE6a49G"
      },
      "execution_count": null,
      "outputs": []
    },
    {
      "cell_type": "markdown",
      "source": [
        "### Fit the Random Forest Model\n"
      ],
      "metadata": {
        "id": "JpIhwECHga60"
      }
    },
    {
      "cell_type": "code",
      "source": [
        "# Create a random forest classifier.\n",
        "rf_model = RandomForestClassifier(n_estimators=128) \n"
      ],
      "metadata": {
        "id": "z33XwvlOa5D4"
      },
      "execution_count": null,
      "outputs": []
    },
    {
      "cell_type": "markdown",
      "source": [
        "> The `n_estimators` will allow us to set the number of trees that will be created by the algorithm. Generally, the higher number makes the predictions stronger and more stable, but can slow down the output because of the higher training time allocated. The best practice is to use between 64 and 128 random forests, though higher numbers are quite common despite the higher training time. "
      ],
      "metadata": {
        "id": "6G3gAl6Pqxkq"
      }
    },
    {
      "cell_type": "code",
      "source": [
        "# Fitting the model\n",
        "rf_model = rf_model.fit(X_train_scaled, y_train)\n"
      ],
      "metadata": {
        "id": "nuMoPeejgeGP"
      },
      "execution_count": null,
      "outputs": []
    },
    {
      "cell_type": "markdown",
      "source": [
        "### Make Predictions Using the Testing Data\n"
      ],
      "metadata": {
        "id": "cfqjyPAfgfpL"
      }
    },
    {
      "cell_type": "code",
      "source": [
        "# Making predictions using the testing data.\n",
        "predictions = rf_model.predict(X_test_scaled)\n",
        "predictions"
      ],
      "metadata": {
        "id": "6RvOmwNEgixs"
      },
      "execution_count": null,
      "outputs": []
    },
    {
      "cell_type": "markdown",
      "source": [
        "### Evaluate the Model\n"
      ],
      "metadata": {
        "id": "PbtELezIgldj"
      }
    },
    {
      "cell_type": "code",
      "source": [
        "# Calculating the confusion matrix.\n",
        "cm = confusion_matrix(y_test, predictions)\n",
        "\n",
        "# Create a DataFrame from the confusion matrix.\n",
        "cm_df = pd.DataFrame(\n",
        "    cm, index=[\"Actual 0\", \"Actual 1\"], columns=[\"Predicted 0\", \"Predicted 1\"])\n",
        "\n",
        "cm_df\n"
      ],
      "metadata": {
        "id": "V4eS6YPmgmYL"
      },
      "execution_count": null,
      "outputs": []
    },
    {
      "cell_type": "code",
      "source": [
        "# Calculating the accuracy score.\n",
        "acc_score = accuracy_score(y_test, predictions)\n"
      ],
      "metadata": {
        "id": "AqIwHq0h0qRe"
      },
      "execution_count": null,
      "outputs": []
    },
    {
      "cell_type": "code",
      "source": [
        "# Displaying results\n",
        "print(\"Confusion Matrix\")\n",
        "display(cm_df)\n",
        "print(f\"Accuracy Score : {acc_score}\")\n",
        "print(\"-\")\n",
        "print(\"Classification Report\")\n",
        "print(classification_report(y_test, predictions))\n"
      ],
      "metadata": {
        "id": "Lyb6x_UK0rfk"
      },
      "execution_count": null,
      "outputs": []
    },
    {
      "cell_type": "markdown",
      "source": [
        "### Rank the Importance of Features\n"
      ],
      "metadata": {
        "id": "r6dKkhJl0vVb"
      }
    },
    {
      "cell_type": "code",
      "source": [
        "# Calculate feature importance in the Random Forest model.\n",
        "importances = rf_model.feature_importances_\n",
        "importances\n"
      ],
      "metadata": {
        "id": "VhQwQ-Qg0w6-"
      },
      "execution_count": null,
      "outputs": []
    },
    {
      "cell_type": "code",
      "source": [
        "# We can sort the features by their importance.\n",
        "sorted(zip(rf_model.feature_importances_, X.columns), reverse=True)\n"
      ],
      "metadata": {
        "id": "R3ta4dsO0zl0"
      },
      "execution_count": null,
      "outputs": []
    }
  ],
  "metadata": {
    "colab": {
      "collapsed_sections": [],
      "provenance": [],
      "include_colab_link": true
    },
    "kernelspec": {
      "display_name": "Python 3",
      "name": "python3"
    },
    "language_info": {
      "name": "python"
    }
  },
  "nbformat": 4,
  "nbformat_minor": 0
}